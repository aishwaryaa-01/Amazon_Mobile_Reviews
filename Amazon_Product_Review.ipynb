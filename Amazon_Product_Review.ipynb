{
 "cells": [
  {
   "cell_type": "markdown",
   "id": "f7c37472",
   "metadata": {},
   "source": [
    "# Analyze Amazon Product Reviews"
   ]
  },
  {
   "cell_type": "markdown",
   "id": "0205d3da",
   "metadata": {},
   "source": [
    "# Dataset used: Mobile Phone"
   ]
  },
  {
   "cell_type": "markdown",
   "id": "1c98da8d",
   "metadata": {},
   "source": [
    " Importing Necessary Libraries"
   ]
  },
  {
   "cell_type": "code",
   "execution_count": 1,
   "id": "f2cb90f0",
   "metadata": {},
   "outputs": [],
   "source": [
    "import pandas as pd \n",
    "import numpy as np"
   ]
  },
  {
   "cell_type": "code",
   "execution_count": 2,
   "id": "9c619d4e",
   "metadata": {},
   "outputs": [],
   "source": [
    "#from pylab import rcParams\n",
    "import warnings\n",
    "warnings.filterwarnings(\"ignore\")"
   ]
  },
  {
   "cell_type": "code",
   "execution_count": 3,
   "id": "367db72f",
   "metadata": {},
   "outputs": [],
   "source": [
    "#importing the dataset\n",
    "\n",
    "url = \"mobile.csv\""
   ]
  },
  {
   "cell_type": "code",
   "execution_count": 4,
   "id": "9c3c1953",
   "metadata": {},
   "outputs": [],
   "source": [
    "df = pd.read_csv(url)"
   ]
  },
  {
   "cell_type": "code",
   "execution_count": 5,
   "id": "75c118f7",
   "metadata": {},
   "outputs": [
    {
     "data": {
      "text/html": [
       "<div>\n",
       "<style scoped>\n",
       "    .dataframe tbody tr th:only-of-type {\n",
       "        vertical-align: middle;\n",
       "    }\n",
       "\n",
       "    .dataframe tbody tr th {\n",
       "        vertical-align: top;\n",
       "    }\n",
       "\n",
       "    .dataframe thead th {\n",
       "        text-align: right;\n",
       "    }\n",
       "</style>\n",
       "<table border=\"1\" class=\"dataframe\">\n",
       "  <thead>\n",
       "    <tr style=\"text-align: right;\">\n",
       "      <th></th>\n",
       "      <th>asin</th>\n",
       "      <th>name</th>\n",
       "      <th>rating</th>\n",
       "      <th>date</th>\n",
       "      <th>verified</th>\n",
       "      <th>title</th>\n",
       "      <th>body</th>\n",
       "      <th>helpfulVotes</th>\n",
       "    </tr>\n",
       "  </thead>\n",
       "  <tbody>\n",
       "    <tr>\n",
       "      <th>0</th>\n",
       "      <td>B0000SX2UC</td>\n",
       "      <td>Janet</td>\n",
       "      <td>3</td>\n",
       "      <td>October 11, 2005</td>\n",
       "      <td>False</td>\n",
       "      <td>Def not best, but not worst</td>\n",
       "      <td>I had the Samsung A600 for awhile which is abs...</td>\n",
       "      <td>1.0</td>\n",
       "    </tr>\n",
       "    <tr>\n",
       "      <th>1</th>\n",
       "      <td>B0000SX2UC</td>\n",
       "      <td>Luke Wyatt</td>\n",
       "      <td>1</td>\n",
       "      <td>January 7, 2004</td>\n",
       "      <td>False</td>\n",
       "      <td>Text Messaging Doesn't Work</td>\n",
       "      <td>Due to a software issue between Nokia and Spri...</td>\n",
       "      <td>17.0</td>\n",
       "    </tr>\n",
       "    <tr>\n",
       "      <th>2</th>\n",
       "      <td>B0000SX2UC</td>\n",
       "      <td>Brooke</td>\n",
       "      <td>5</td>\n",
       "      <td>December 30, 2003</td>\n",
       "      <td>False</td>\n",
       "      <td>Love This Phone</td>\n",
       "      <td>This is a great, reliable phone. I also purcha...</td>\n",
       "      <td>5.0</td>\n",
       "    </tr>\n",
       "    <tr>\n",
       "      <th>3</th>\n",
       "      <td>B0000SX2UC</td>\n",
       "      <td>amy m. teague</td>\n",
       "      <td>3</td>\n",
       "      <td>March 18, 2004</td>\n",
       "      <td>False</td>\n",
       "      <td>Love the Phone, BUT...!</td>\n",
       "      <td>I love the phone and all, because I really did...</td>\n",
       "      <td>1.0</td>\n",
       "    </tr>\n",
       "    <tr>\n",
       "      <th>4</th>\n",
       "      <td>B0000SX2UC</td>\n",
       "      <td>tristazbimmer</td>\n",
       "      <td>4</td>\n",
       "      <td>August 28, 2005</td>\n",
       "      <td>False</td>\n",
       "      <td>Great phone service and options, lousy case!</td>\n",
       "      <td>The phone has been great for every purpose it ...</td>\n",
       "      <td>1.0</td>\n",
       "    </tr>\n",
       "  </tbody>\n",
       "</table>\n",
       "</div>"
      ],
      "text/plain": [
       "         asin           name  rating               date  verified  \\\n",
       "0  B0000SX2UC          Janet       3   October 11, 2005     False   \n",
       "1  B0000SX2UC     Luke Wyatt       1    January 7, 2004     False   \n",
       "2  B0000SX2UC         Brooke       5  December 30, 2003     False   \n",
       "3  B0000SX2UC  amy m. teague       3     March 18, 2004     False   \n",
       "4  B0000SX2UC  tristazbimmer       4    August 28, 2005     False   \n",
       "\n",
       "                                          title  \\\n",
       "0                   Def not best, but not worst   \n",
       "1                   Text Messaging Doesn't Work   \n",
       "2                               Love This Phone   \n",
       "3                       Love the Phone, BUT...!   \n",
       "4  Great phone service and options, lousy case!   \n",
       "\n",
       "                                                body  helpfulVotes  \n",
       "0  I had the Samsung A600 for awhile which is abs...           1.0  \n",
       "1  Due to a software issue between Nokia and Spri...          17.0  \n",
       "2  This is a great, reliable phone. I also purcha...           5.0  \n",
       "3  I love the phone and all, because I really did...           1.0  \n",
       "4  The phone has been great for every purpose it ...           1.0  "
      ]
     },
     "execution_count": 5,
     "metadata": {},
     "output_type": "execute_result"
    }
   ],
   "source": [
    "df.head()"
   ]
  },
  {
   "cell_type": "code",
   "execution_count": 6,
   "id": "034ea5a7",
   "metadata": {},
   "outputs": [
    {
     "name": "stdout",
     "output_type": "stream",
     "text": [
      "<class 'pandas.core.frame.DataFrame'>\n",
      "RangeIndex: 82815 entries, 0 to 82814\n",
      "Data columns (total 8 columns):\n",
      " #   Column        Non-Null Count  Dtype  \n",
      "---  ------        --------------  -----  \n",
      " 0   asin          82815 non-null  object \n",
      " 1   name          82810 non-null  object \n",
      " 2   rating        82815 non-null  int64  \n",
      " 3   date          82815 non-null  object \n",
      " 4   verified      82815 non-null  bool   \n",
      " 5   title         82805 non-null  object \n",
      " 6   body          82795 non-null  object \n",
      " 7   helpfulVotes  33134 non-null  float64\n",
      "dtypes: bool(1), float64(1), int64(1), object(5)\n",
      "memory usage: 4.5+ MB\n"
     ]
    }
   ],
   "source": [
    "df.info()"
   ]
  },
  {
   "cell_type": "code",
   "execution_count": 7,
   "id": "8cd4e9bb",
   "metadata": {},
   "outputs": [
    {
     "data": {
      "text/html": [
       "<div>\n",
       "<style scoped>\n",
       "    .dataframe tbody tr th:only-of-type {\n",
       "        vertical-align: middle;\n",
       "    }\n",
       "\n",
       "    .dataframe tbody tr th {\n",
       "        vertical-align: top;\n",
       "    }\n",
       "\n",
       "    .dataframe thead th {\n",
       "        text-align: right;\n",
       "    }\n",
       "</style>\n",
       "<table border=\"1\" class=\"dataframe\">\n",
       "  <thead>\n",
       "    <tr style=\"text-align: right;\">\n",
       "      <th></th>\n",
       "      <th>rating</th>\n",
       "      <th>helpfulVotes</th>\n",
       "    </tr>\n",
       "  </thead>\n",
       "  <tbody>\n",
       "    <tr>\n",
       "      <th>count</th>\n",
       "      <td>82815.000000</td>\n",
       "      <td>33134.000000</td>\n",
       "    </tr>\n",
       "    <tr>\n",
       "      <th>mean</th>\n",
       "      <td>3.760357</td>\n",
       "      <td>7.204835</td>\n",
       "    </tr>\n",
       "    <tr>\n",
       "      <th>std</th>\n",
       "      <td>1.605644</td>\n",
       "      <td>28.057901</td>\n",
       "    </tr>\n",
       "    <tr>\n",
       "      <th>min</th>\n",
       "      <td>1.000000</td>\n",
       "      <td>1.000000</td>\n",
       "    </tr>\n",
       "    <tr>\n",
       "      <th>25%</th>\n",
       "      <td>2.000000</td>\n",
       "      <td>1.000000</td>\n",
       "    </tr>\n",
       "    <tr>\n",
       "      <th>50%</th>\n",
       "      <td>5.000000</td>\n",
       "      <td>2.000000</td>\n",
       "    </tr>\n",
       "    <tr>\n",
       "      <th>75%</th>\n",
       "      <td>5.000000</td>\n",
       "      <td>4.000000</td>\n",
       "    </tr>\n",
       "    <tr>\n",
       "      <th>max</th>\n",
       "      <td>5.000000</td>\n",
       "      <td>932.000000</td>\n",
       "    </tr>\n",
       "  </tbody>\n",
       "</table>\n",
       "</div>"
      ],
      "text/plain": [
       "             rating  helpfulVotes\n",
       "count  82815.000000  33134.000000\n",
       "mean       3.760357      7.204835\n",
       "std        1.605644     28.057901\n",
       "min        1.000000      1.000000\n",
       "25%        2.000000      1.000000\n",
       "50%        5.000000      2.000000\n",
       "75%        5.000000      4.000000\n",
       "max        5.000000    932.000000"
      ]
     },
     "execution_count": 7,
     "metadata": {},
     "output_type": "execute_result"
    }
   ],
   "source": [
    "df.describe()"
   ]
  },
  {
   "cell_type": "code",
   "execution_count": 8,
   "id": "530921a9",
   "metadata": {},
   "outputs": [],
   "source": [
    "# deleting unnecessary columns"
   ]
  },
  {
   "cell_type": "code",
   "execution_count": 9,
   "id": "cf2ff3d2",
   "metadata": {},
   "outputs": [],
   "source": [
    "df.drop(['asin','name','date','verified','helpfulVotes'],axis=1,inplace=True)"
   ]
  },
  {
   "cell_type": "code",
   "execution_count": 10,
   "id": "383a2739",
   "metadata": {},
   "outputs": [
    {
     "data": {
      "text/html": [
       "<div>\n",
       "<style scoped>\n",
       "    .dataframe tbody tr th:only-of-type {\n",
       "        vertical-align: middle;\n",
       "    }\n",
       "\n",
       "    .dataframe tbody tr th {\n",
       "        vertical-align: top;\n",
       "    }\n",
       "\n",
       "    .dataframe thead th {\n",
       "        text-align: right;\n",
       "    }\n",
       "</style>\n",
       "<table border=\"1\" class=\"dataframe\">\n",
       "  <thead>\n",
       "    <tr style=\"text-align: right;\">\n",
       "      <th></th>\n",
       "      <th>rating</th>\n",
       "      <th>title</th>\n",
       "      <th>body</th>\n",
       "    </tr>\n",
       "  </thead>\n",
       "  <tbody>\n",
       "    <tr>\n",
       "      <th>0</th>\n",
       "      <td>3</td>\n",
       "      <td>Def not best, but not worst</td>\n",
       "      <td>I had the Samsung A600 for awhile which is abs...</td>\n",
       "    </tr>\n",
       "    <tr>\n",
       "      <th>1</th>\n",
       "      <td>1</td>\n",
       "      <td>Text Messaging Doesn't Work</td>\n",
       "      <td>Due to a software issue between Nokia and Spri...</td>\n",
       "    </tr>\n",
       "    <tr>\n",
       "      <th>2</th>\n",
       "      <td>5</td>\n",
       "      <td>Love This Phone</td>\n",
       "      <td>This is a great, reliable phone. I also purcha...</td>\n",
       "    </tr>\n",
       "    <tr>\n",
       "      <th>3</th>\n",
       "      <td>3</td>\n",
       "      <td>Love the Phone, BUT...!</td>\n",
       "      <td>I love the phone and all, because I really did...</td>\n",
       "    </tr>\n",
       "    <tr>\n",
       "      <th>4</th>\n",
       "      <td>4</td>\n",
       "      <td>Great phone service and options, lousy case!</td>\n",
       "      <td>The phone has been great for every purpose it ...</td>\n",
       "    </tr>\n",
       "    <tr>\n",
       "      <th>5</th>\n",
       "      <td>4</td>\n",
       "      <td>Worked great for me</td>\n",
       "      <td>Hello, I have this phone and used it until I d...</td>\n",
       "    </tr>\n",
       "    <tr>\n",
       "      <th>6</th>\n",
       "      <td>5</td>\n",
       "      <td>Wanna cool Nokia? You have it here!</td>\n",
       "      <td>Cool. Cheap. Color: 3 words that describe the ...</td>\n",
       "    </tr>\n",
       "    <tr>\n",
       "      <th>7</th>\n",
       "      <td>4</td>\n",
       "      <td>Problem with 3588i universal headset</td>\n",
       "      <td>The 3599i is overall a nice phone, except that...</td>\n",
       "    </tr>\n",
       "    <tr>\n",
       "      <th>8</th>\n",
       "      <td>5</td>\n",
       "      <td>cool phone!!!!!!!!</td>\n",
       "      <td>I've never owned a Nokia phone before, so this...</td>\n",
       "    </tr>\n",
       "    <tr>\n",
       "      <th>9</th>\n",
       "      <td>3</td>\n",
       "      <td>Pissed off-a little bit</td>\n",
       "      <td>ok well im in school and i need the text messa...</td>\n",
       "    </tr>\n",
       "  </tbody>\n",
       "</table>\n",
       "</div>"
      ],
      "text/plain": [
       "   rating                                         title  \\\n",
       "0       3                   Def not best, but not worst   \n",
       "1       1                   Text Messaging Doesn't Work   \n",
       "2       5                               Love This Phone   \n",
       "3       3                       Love the Phone, BUT...!   \n",
       "4       4  Great phone service and options, lousy case!   \n",
       "5       4                           Worked great for me   \n",
       "6       5           Wanna cool Nokia? You have it here!   \n",
       "7       4          Problem with 3588i universal headset   \n",
       "8       5                            cool phone!!!!!!!!   \n",
       "9       3                       Pissed off-a little bit   \n",
       "\n",
       "                                                body  \n",
       "0  I had the Samsung A600 for awhile which is abs...  \n",
       "1  Due to a software issue between Nokia and Spri...  \n",
       "2  This is a great, reliable phone. I also purcha...  \n",
       "3  I love the phone and all, because I really did...  \n",
       "4  The phone has been great for every purpose it ...  \n",
       "5  Hello, I have this phone and used it until I d...  \n",
       "6  Cool. Cheap. Color: 3 words that describe the ...  \n",
       "7  The 3599i is overall a nice phone, except that...  \n",
       "8  I've never owned a Nokia phone before, so this...  \n",
       "9  ok well im in school and i need the text messa...  "
      ]
     },
     "execution_count": 10,
     "metadata": {},
     "output_type": "execute_result"
    }
   ],
   "source": [
    "df.head(10)"
   ]
  },
  {
   "cell_type": "code",
   "execution_count": 11,
   "id": "52e99d7e",
   "metadata": {},
   "outputs": [],
   "source": [
    "df.drop(['body'],axis=1,inplace=True)"
   ]
  },
  {
   "cell_type": "code",
   "execution_count": 12,
   "id": "38088bdb",
   "metadata": {},
   "outputs": [],
   "source": [
    "#rename columns"
   ]
  },
  {
   "cell_type": "code",
   "execution_count": 13,
   "id": "4b7e0740",
   "metadata": {},
   "outputs": [],
   "source": [
    "df.rename(columns={'title':'Reviews','rating':'Ratings'},inplace=True)"
   ]
  },
  {
   "cell_type": "code",
   "execution_count": 14,
   "id": "8b3c6186",
   "metadata": {},
   "outputs": [
    {
     "data": {
      "text/html": [
       "<div>\n",
       "<style scoped>\n",
       "    .dataframe tbody tr th:only-of-type {\n",
       "        vertical-align: middle;\n",
       "    }\n",
       "\n",
       "    .dataframe tbody tr th {\n",
       "        vertical-align: top;\n",
       "    }\n",
       "\n",
       "    .dataframe thead th {\n",
       "        text-align: right;\n",
       "    }\n",
       "</style>\n",
       "<table border=\"1\" class=\"dataframe\">\n",
       "  <thead>\n",
       "    <tr style=\"text-align: right;\">\n",
       "      <th></th>\n",
       "      <th>Ratings</th>\n",
       "      <th>Reviews</th>\n",
       "    </tr>\n",
       "  </thead>\n",
       "  <tbody>\n",
       "    <tr>\n",
       "      <th>0</th>\n",
       "      <td>3</td>\n",
       "      <td>Def not best, but not worst</td>\n",
       "    </tr>\n",
       "    <tr>\n",
       "      <th>1</th>\n",
       "      <td>1</td>\n",
       "      <td>Text Messaging Doesn't Work</td>\n",
       "    </tr>\n",
       "    <tr>\n",
       "      <th>2</th>\n",
       "      <td>5</td>\n",
       "      <td>Love This Phone</td>\n",
       "    </tr>\n",
       "    <tr>\n",
       "      <th>3</th>\n",
       "      <td>3</td>\n",
       "      <td>Love the Phone, BUT...!</td>\n",
       "    </tr>\n",
       "    <tr>\n",
       "      <th>4</th>\n",
       "      <td>4</td>\n",
       "      <td>Great phone service and options, lousy case!</td>\n",
       "    </tr>\n",
       "  </tbody>\n",
       "</table>\n",
       "</div>"
      ],
      "text/plain": [
       "   Ratings                                       Reviews\n",
       "0        3                   Def not best, but not worst\n",
       "1        1                   Text Messaging Doesn't Work\n",
       "2        5                               Love This Phone\n",
       "3        3                       Love the Phone, BUT...!\n",
       "4        4  Great phone service and options, lousy case!"
      ]
     },
     "execution_count": 14,
     "metadata": {},
     "output_type": "execute_result"
    }
   ],
   "source": [
    "df.head()"
   ]
  },
  {
   "cell_type": "code",
   "execution_count": 15,
   "id": "87b47b0f",
   "metadata": {},
   "outputs": [
    {
     "name": "stdout",
     "output_type": "stream",
     "text": [
      "<class 'pandas.core.frame.DataFrame'>\n",
      "RangeIndex: 82815 entries, 0 to 82814\n",
      "Data columns (total 2 columns):\n",
      " #   Column   Non-Null Count  Dtype \n",
      "---  ------   --------------  ----- \n",
      " 0   Ratings  82815 non-null  int64 \n",
      " 1   Reviews  82805 non-null  object\n",
      "dtypes: int64(1), object(1)\n",
      "memory usage: 1.3+ MB\n"
     ]
    }
   ],
   "source": [
    "df.info()"
   ]
  },
  {
   "cell_type": "code",
   "execution_count": 16,
   "id": "d5d1d442",
   "metadata": {},
   "outputs": [],
   "source": [
    "#checking for null values"
   ]
  },
  {
   "cell_type": "code",
   "execution_count": 17,
   "id": "8d2c7108",
   "metadata": {},
   "outputs": [
    {
     "data": {
      "text/plain": [
       "Ratings     0\n",
       "Reviews    10\n",
       "dtype: int64"
      ]
     },
     "execution_count": 17,
     "metadata": {},
     "output_type": "execute_result"
    }
   ],
   "source": [
    "df.isnull().sum()"
   ]
  },
  {
   "cell_type": "code",
   "execution_count": 18,
   "id": "394a7a5e",
   "metadata": {},
   "outputs": [],
   "source": [
    "# delete rows with null values"
   ]
  },
  {
   "cell_type": "code",
   "execution_count": 19,
   "id": "4b848ace",
   "metadata": {},
   "outputs": [],
   "source": [
    "df = df.dropna()"
   ]
  },
  {
   "cell_type": "code",
   "execution_count": 20,
   "id": "df7625b0",
   "metadata": {},
   "outputs": [
    {
     "data": {
      "text/plain": [
       "Ratings    0\n",
       "Reviews    0\n",
       "dtype: int64"
      ]
     },
     "execution_count": 20,
     "metadata": {},
     "output_type": "execute_result"
    }
   ],
   "source": [
    "df.isnull().sum()"
   ]
  },
  {
   "cell_type": "code",
   "execution_count": 21,
   "id": "1fa170f4",
   "metadata": {},
   "outputs": [
    {
     "data": {
      "text/plain": [
       "(82805, 2)"
      ]
     },
     "execution_count": 21,
     "metadata": {},
     "output_type": "execute_result"
    }
   ],
   "source": [
    "df.shape"
   ]
  },
  {
   "cell_type": "code",
   "execution_count": 22,
   "id": "3a1f12ca",
   "metadata": {},
   "outputs": [],
   "source": [
    "#lets see distribution of ratings"
   ]
  },
  {
   "cell_type": "code",
   "execution_count": 23,
   "id": "b8cf563d",
   "metadata": {},
   "outputs": [
    {
     "data": {
      "text/plain": [
       "5    45003\n",
       "1    16428\n",
       "4    10710\n",
       "3     5757\n",
       "2     4907\n",
       "Name: Ratings, dtype: int64"
      ]
     },
     "execution_count": 23,
     "metadata": {},
     "output_type": "execute_result"
    }
   ],
   "source": [
    "df['Ratings'].value_counts()"
   ]
  },
  {
   "cell_type": "code",
   "execution_count": 24,
   "id": "d347250f",
   "metadata": {},
   "outputs": [],
   "source": [
    "%matplotlib inline\n",
    "import matplotlib.pyplot as plt"
   ]
  },
  {
   "cell_type": "code",
   "execution_count": 25,
   "id": "52319e54",
   "metadata": {},
   "outputs": [
    {
     "data": {
      "text/plain": [
       "5    54.348167\n",
       "1    19.839382\n",
       "4    12.934002\n",
       "3     6.952479\n",
       "2     5.925971\n",
       "Name: Ratings, dtype: float64"
      ]
     },
     "execution_count": 25,
     "metadata": {},
     "output_type": "execute_result"
    }
   ],
   "source": [
    "ratings_percentage = 100* df['Ratings'].value_counts()/len(df)\n",
    "ratings_percentage"
   ]
  },
  {
   "cell_type": "code",
   "execution_count": 26,
   "id": "5354eacd",
   "metadata": {},
   "outputs": [
    {
     "data": {
      "text/plain": [
       "<AxesSubplot:>"
      ]
     },
     "execution_count": 26,
     "metadata": {},
     "output_type": "execute_result"
    },
    {
     "data": {
      "image/png": "[encoded data removed]",
      "text/plain": [
       "<Figure size 432x288 with 1 Axes>"
      ]
     },
     "metadata": {
      "needs_background": "light"
     },
     "output_type": "display_data"
    }
   ],
   "source": [
    "ratings_percentage.plot.bar()"
   ]
  },
  {
   "cell_type": "code",
   "execution_count": 27,
   "id": "07d1ca9e",
   "metadata": {},
   "outputs": [
    {
     "data": {
      "text/html": [
       "<div>\n",
       "<style scoped>\n",
       "    .dataframe tbody tr th:only-of-type {\n",
       "        vertical-align: middle;\n",
       "    }\n",
       "\n",
       "    .dataframe tbody tr th {\n",
       "        vertical-align: top;\n",
       "    }\n",
       "\n",
       "    .dataframe thead th {\n",
       "        text-align: right;\n",
       "    }\n",
       "</style>\n",
       "<table border=\"1\" class=\"dataframe\">\n",
       "  <thead>\n",
       "    <tr style=\"text-align: right;\">\n",
       "      <th></th>\n",
       "      <th>Ratings</th>\n",
       "      <th>Reviews</th>\n",
       "    </tr>\n",
       "  </thead>\n",
       "  <tbody>\n",
       "    <tr>\n",
       "      <th>0</th>\n",
       "      <td>3</td>\n",
       "      <td>Def not best, but not worst</td>\n",
       "    </tr>\n",
       "    <tr>\n",
       "      <th>1</th>\n",
       "      <td>1</td>\n",
       "      <td>Text Messaging Doesn't Work</td>\n",
       "    </tr>\n",
       "    <tr>\n",
       "      <th>2</th>\n",
       "      <td>5</td>\n",
       "      <td>Love This Phone</td>\n",
       "    </tr>\n",
       "    <tr>\n",
       "      <th>3</th>\n",
       "      <td>3</td>\n",
       "      <td>Love the Phone, BUT...!</td>\n",
       "    </tr>\n",
       "    <tr>\n",
       "      <th>4</th>\n",
       "      <td>4</td>\n",
       "      <td>Great phone service and options, lousy case!</td>\n",
       "    </tr>\n",
       "  </tbody>\n",
       "</table>\n",
       "</div>"
      ],
      "text/plain": [
       "   Ratings                                       Reviews\n",
       "0        3                   Def not best, but not worst\n",
       "1        1                   Text Messaging Doesn't Work\n",
       "2        5                               Love This Phone\n",
       "3        3                       Love the Phone, BUT...!\n",
       "4        4  Great phone service and options, lousy case!"
      ]
     },
     "execution_count": 27,
     "metadata": {},
     "output_type": "execute_result"
    }
   ],
   "source": [
    "df.head()"
   ]
  },
  {
   "cell_type": "markdown",
   "id": "79229339",
   "metadata": {},
   "source": [
    "## Data Cleaning"
   ]
  },
  {
   "cell_type": "code",
   "execution_count": 28,
   "id": "68dbd0fd",
   "metadata": {},
   "outputs": [],
   "source": [
    "#applying data cleaning techniques"
   ]
  },
  {
   "cell_type": "code",
   "execution_count": 29,
   "id": "e09ab557",
   "metadata": {},
   "outputs": [],
   "source": [
    "#converting all of the words into a consistent case format,say lowercase"
   ]
  },
  {
   "cell_type": "code",
   "execution_count": 30,
   "id": "3ec92745",
   "metadata": {},
   "outputs": [],
   "source": [
    "df['Reviews'] = df['Reviews'].str.lower()"
   ]
  },
  {
   "cell_type": "code",
   "execution_count": 31,
   "id": "2f0f075b",
   "metadata": {},
   "outputs": [
    {
     "data": {
      "text/html": [
       "<div>\n",
       "<style scoped>\n",
       "    .dataframe tbody tr th:only-of-type {\n",
       "        vertical-align: middle;\n",
       "    }\n",
       "\n",
       "    .dataframe tbody tr th {\n",
       "        vertical-align: top;\n",
       "    }\n",
       "\n",
       "    .dataframe thead th {\n",
       "        text-align: right;\n",
       "    }\n",
       "</style>\n",
       "<table border=\"1\" class=\"dataframe\">\n",
       "  <thead>\n",
       "    <tr style=\"text-align: right;\">\n",
       "      <th></th>\n",
       "      <th>Ratings</th>\n",
       "      <th>Reviews</th>\n",
       "    </tr>\n",
       "  </thead>\n",
       "  <tbody>\n",
       "    <tr>\n",
       "      <th>0</th>\n",
       "      <td>3</td>\n",
       "      <td>def not best, but not worst</td>\n",
       "    </tr>\n",
       "    <tr>\n",
       "      <th>1</th>\n",
       "      <td>1</td>\n",
       "      <td>text messaging doesn't work</td>\n",
       "    </tr>\n",
       "    <tr>\n",
       "      <th>2</th>\n",
       "      <td>5</td>\n",
       "      <td>love this phone</td>\n",
       "    </tr>\n",
       "    <tr>\n",
       "      <th>3</th>\n",
       "      <td>3</td>\n",
       "      <td>love the phone, but...!</td>\n",
       "    </tr>\n",
       "    <tr>\n",
       "      <th>4</th>\n",
       "      <td>4</td>\n",
       "      <td>great phone service and options, lousy case!</td>\n",
       "    </tr>\n",
       "  </tbody>\n",
       "</table>\n",
       "</div>"
      ],
      "text/plain": [
       "   Ratings                                       Reviews\n",
       "0        3                   def not best, but not worst\n",
       "1        1                   text messaging doesn't work\n",
       "2        5                               love this phone\n",
       "3        3                       love the phone, but...!\n",
       "4        4  great phone service and options, lousy case!"
      ]
     },
     "execution_count": 31,
     "metadata": {},
     "output_type": "execute_result"
    }
   ],
   "source": [
    "df.head()"
   ]
  },
  {
   "cell_type": "code",
   "execution_count": 32,
   "id": "7f25b4d6",
   "metadata": {},
   "outputs": [],
   "source": [
    "#Remove Punctuations"
   ]
  },
  {
   "cell_type": "code",
   "execution_count": 33,
   "id": "bec1fa34",
   "metadata": {},
   "outputs": [],
   "source": [
    "df['Reviews'] = df['Reviews'].str.replace('[^\\w\\s]',\"\")"
   ]
  },
  {
   "cell_type": "code",
   "execution_count": 34,
   "id": "f7058824",
   "metadata": {},
   "outputs": [
    {
     "data": {
      "text/plain": [
       "0                     def not best but not worst\n",
       "1                     text messaging doesnt work\n",
       "2                                love this phone\n",
       "3                             love the phone but\n",
       "4     great phone service and options lousy case\n",
       "5                            worked great for me\n",
       "6              wanna cool nokia you have it here\n",
       "7           problem with 3588i universal headset\n",
       "8                                     cool phone\n",
       "9                         pissed offa little bit\n",
       "10                 works great but dont dropt it\n",
       "11         slow annoying fragile heavy and bulky\n",
       "12          worth paying more for something else\n",
       "13         great free phone for sprint customers\n",
       "14                                  stupid phone\n",
       "15                              exellent service\n",
       "16                                     i love it\n",
       "17                                 phones locked\n",
       "18                             excellent product\n",
       "19                                       warning\n",
       "Name: Reviews, dtype: object"
      ]
     },
     "execution_count": 34,
     "metadata": {},
     "output_type": "execute_result"
    }
   ],
   "source": [
    "df.Reviews.head(20)"
   ]
  },
  {
   "cell_type": "code",
   "execution_count": 35,
   "id": "785ad4cc",
   "metadata": {},
   "outputs": [],
   "source": [
    "#Tokenization"
   ]
  },
  {
   "cell_type": "code",
   "execution_count": 36,
   "id": "3b023157",
   "metadata": {},
   "outputs": [],
   "source": [
    "import nltk\n",
    "from nltk import word_tokenize"
   ]
  },
  {
   "cell_type": "code",
   "execution_count": 37,
   "id": "cabf16b6",
   "metadata": {},
   "outputs": [
    {
     "name": "stdout",
     "output_type": "stream",
     "text": [
      "number of unique tokens : 11601\n"
     ]
    }
   ],
   "source": [
    "token_lists=[word_tokenize(each)for each in df['Reviews']]\n",
    "tokens= [item for sublist in token_lists for item in sublist]\n",
    "print(\"number of unique tokens :\",len(set(tokens)))"
   ]
  },
  {
   "cell_type": "code",
   "execution_count": 38,
   "id": "4be2c5ad",
   "metadata": {},
   "outputs": [
    {
     "data": {
      "text/plain": [
       "[['def', 'not', 'best', 'but', 'not', 'worst'],\n",
       " ['text', 'messaging', 'doesnt', 'work'],\n",
       " ['love', 'this', 'phone'],\n",
       " ['love', 'the', 'phone', 'but'],\n",
       " ['great', 'phone', 'service', 'and', 'options', 'lousy', 'case'],\n",
       " ['worked', 'great', 'for', 'me'],\n",
       " ['wan', 'na', 'cool', 'nokia', 'you', 'have', 'it', 'here'],\n",
       " ['problem', 'with', '3588i', 'universal', 'headset'],\n",
       " ['cool', 'phone'],\n",
       " ['pissed', 'offa', 'little', 'bit'],\n",
       " ['works', 'great', 'but', 'dont', 'dropt', 'it'],\n",
       " ['slow', 'annoying', 'fragile', 'heavy', 'and', 'bulky'],\n",
       " ['worth', 'paying', 'more', 'for', 'something', 'else'],\n",
       " ['great', 'free', 'phone', 'for', 'sprint', 'customers'],\n",
       " ['stupid', 'phone'],\n",
       " ['exellent', 'service'],\n",
       " ['i', 'love', 'it'],\n",
       " ['phones', 'locked'],\n",
       " ['excellent', 'product'],\n",
       " ['warning'],\n",
       " ['nextel', 'boost', 'phone'],\n",
       " ['nice', 'but'],\n",
       " ['it',\n",
       "  'seems',\n",
       "  'it',\n",
       "  'doesnt',\n",
       "  'work',\n",
       "  'with',\n",
       "  'the',\n",
       "  'existing',\n",
       "  'att',\n",
       "  'sim',\n",
       "  'card'],\n",
       " ['five', 'stars'],\n",
       " ['supply', 'are', 'needed'],\n",
       " ['does', 'the', 'job'],\n",
       " ['awesome', 'with', 'a', 'but'],\n",
       " ['one', 'star'],\n",
       " ['is', 'cheap', 'but', 'ok', 'quality'],\n",
       " ['this',\n",
       "  'phone',\n",
       "  'gave',\n",
       "  'me',\n",
       "  'a',\n",
       "  'concussion',\n",
       "  'and',\n",
       "  'may',\n",
       "  'come',\n",
       "  'with',\n",
       "  'a',\n",
       "  'faulty',\n",
       "  'battery'],\n",
       " ['three', 'stars'],\n",
       " ['tough', 'phone'],\n",
       " ['412', 'years'],\n",
       " ['simply', 'great'],\n",
       " ['more', 'than', 'great'],\n",
       " ['motorola', 'c168i'],\n",
       " ['good', 'little', 'phone'],\n",
       " ['great', 'phone'],\n",
       " ['motorola', 'fan'],\n",
       " ['perfect', 'barebones', 'and', 'practically', 'indestructible', 'phone'],\n",
       " ['solid', 'phone'],\n",
       " ['great', 'disposible', 'phone'],\n",
       " ['two', 'for', 'one'],\n",
       " ['second', 'one', 'in', '5', 'years'],\n",
       " ['the',\n",
       "  'battery',\n",
       "  'fits',\n",
       "  'but',\n",
       "  'the',\n",
       "  'plastic',\n",
       "  'guard',\n",
       "  'on',\n",
       "  'the',\n",
       "  'side',\n",
       "  'opposite',\n",
       "  'the',\n",
       "  'contacts',\n",
       "  'is',\n",
       "  'separated',\n",
       "  'once',\n",
       "  'inserting',\n",
       "  'the',\n",
       "  'battery',\n",
       "  'due',\n",
       "  'to',\n",
       "  'poor',\n",
       "  'fit'],\n",
       " ['steel', 'nokia', 'steel'],\n",
       " ['unreliable'],\n",
       " ['poorquality'],\n",
       " ['tough', 'little', 'phone'],\n",
       " ['boost', 'mobile', 'no', 'longer', 'allows', 'iden', 'service'],\n",
       " ['five', 'stars'],\n",
       " ['bought',\n",
       "  'this',\n",
       "  'for',\n",
       "  'my',\n",
       "  'mother',\n",
       "  'for',\n",
       "  'mothers',\n",
       "  'day',\n",
       "  'of',\n",
       "  '2014'],\n",
       " ['wont', 'work', 'on', 'networks'],\n",
       " ['good', 'boost', 'phone'],\n",
       " ['sim', 'card'],\n",
       " ['not', 'a', 'boost', 'phone', 'description', 'is', 'lie'],\n",
       " ['good', 'phone'],\n",
       " ['great', 'phone'],\n",
       " ['cell'],\n",
       " ['for', 'a', 'basic', 'phone', 'quite', 'good'],\n",
       " ['terrible', 'customer', 'service'],\n",
       " ['excellent', 'choice', 'cell', 'phone'],\n",
       " ['great', 'phone'],\n",
       " ['great', 'phone'],\n",
       " ['ok', 'as', 'phone', 'thats', 'it'],\n",
       " ['not', 'a', 'good', 'product'],\n",
       " ['this',\n",
       "  'phone',\n",
       "  'is',\n",
       "  'great',\n",
       "  'people',\n",
       "  'are',\n",
       "  'crazy',\n",
       "  'to',\n",
       "  'give',\n",
       "  'a',\n",
       "  'bad',\n",
       "  'review'],\n",
       " ['this', 'phone', 'was', 'designed', 'by', 'the', 'devil'],\n",
       " ['rugged'],\n",
       " ['good', 'phonegood', 'price'],\n",
       " ['motorola', 'v365'],\n",
       " ['three', 'stars'],\n",
       " ['five', 'stars'],\n",
       " ['it', 'is', 'okay'],\n",
       " ['it',\n",
       "  'is',\n",
       "  'her',\n",
       "  'third',\n",
       "  'one',\n",
       "  'like',\n",
       "  'it',\n",
       "  'this',\n",
       "  'one',\n",
       "  'is',\n",
       "  'perfect',\n",
       "  'for',\n",
       "  'her'],\n",
       " ['old', 'fashioned'],\n",
       " ['old', 'phone', 'may', 'not', 'work', 'with', 'a', 'new', 'sim', 'card'],\n",
       " ['misrepresented', 'condition'],\n",
       " ['a', 'bad', 'choice'],\n",
       " ['five', 'stars'],\n",
       " ['great', 'simple', 'phone'],\n",
       " ['terrible', 'phone'],\n",
       " ['ok', 'phone', 'to', 'tide', 'me', 'over'],\n",
       " ['lousy', 'phone'],\n",
       " ['good', 'basic', 'phone', 'for', 'the', 'money'],\n",
       " ['i', 'love', 'this', 'phone'],\n",
       " ['great', 'phone'],\n",
       " ['early', 'but'],\n",
       " ['ultra', 'durable'],\n",
       " ['i', 'still', 'have', 'mine', 'and', 'love', 'it'],\n",
       " ['good', 'phone'],\n",
       " ['sturdy', 'simple', 'phone', 'with', 'endless', 'battery', 'life'],\n",
       " ['one', 'star'],\n",
       " ['7', 'for', 'a', 'burner', 'whats', 'not', 'to', 'like'],\n",
       " ['new', 'phone', 'came', 'with', 'a', 'problem'],\n",
       " ['samsung', 't301g', 'prepaid', 'phone', 'tracfone'],\n",
       " ['wow', 'a', 'phone', 'that', 'doesnt', 'double', 'as', 'a', 'club'],\n",
       " ['awesome', 'little', 'phone'],\n",
       " ['samsun', 't301g', 'prepaid', 'phone', 'tracfone'],\n",
       " ['works', 'fine'],\n",
       " ['replacement'],\n",
       " ['great', 'cheap', 'practical', 'phone'],\n",
       " ['pretty', 'good', 'phone'],\n",
       " ['the', 'phone', 'is', 'ok'],\n",
       " ['tracfone'],\n",
       " ['good', 'model', 'for', 'extra', 'phone'],\n",
       " ['tracfone'],\n",
       " ['great', 'little', 'phone'],\n",
       " ['christmass', 'gift'],\n",
       " ['returned'],\n",
       " ['tracphone', 'samsung', 't301g', 'prepaid', 'phone'],\n",
       " ['bad', 'bluetooth', 'works', 'only', 'one', 'way'],\n",
       " ['cheap', 'bluetooth'],\n",
       " ['five', 'stars'],\n",
       " ['the', 'phone', 'was', 'exactly', 'what', 'i', 'wanted', 'except', 'it'],\n",
       " ['runaround', 'cheapie', 'good', 'value', 'phone', 'and', 'service'],\n",
       " ['five', 'stars'],\n",
       " ['excellent', 'for', 'kids', 'as', 'starting', 'phone'],\n",
       " ['four', 'stars'],\n",
       " ['four', 'stars'],\n",
       " ['just', 'right', 'for', 'me'],\n",
       " ['the',\n",
       "  'phone',\n",
       "  'now',\n",
       "  'is',\n",
       "  'antiquated',\n",
       "  'but',\n",
       "  'still',\n",
       "  'works',\n",
       "  'husband'],\n",
       " ['four', 'stars'],\n",
       " ['fits', 'our', 'needs'],\n",
       " ['five', 'stars'],\n",
       " ['three', 'stars'],\n",
       " ['big', 'fingers'],\n",
       " ['five', 'stars'],\n",
       " ['awsome'],\n",
       " ['great', 'basic', 'phone', '3'],\n",
       " ['pay', 'as', 'you', 'go'],\n",
       " ['this', 'phone', 'is', 'terrible'],\n",
       " ['cheap', 'and', 'powerful'],\n",
       " ['old', 'school', 'phone', 'but', 'great', 'for'],\n",
       " ['slider', 'phone'],\n",
       " ['good', 'phone'],\n",
       " ['five', 'stars'],\n",
       " ['would', 'not', 'open'],\n",
       " ['no', 'way', 'to', 'unlock', 'this', 'one'],\n",
       " ['good', 'review'],\n",
       " ['misled', 'or', 'misread'],\n",
       " ['best', 'one', 'yet', 'except', 'for', 'browser'],\n",
       " ['browser', 'button', 'will', 'eat', 'away', 'your', 'minutes'],\n",
       " ['this', 'is', 'a', 'great', 'phone'],\n",
       " ['worst',\n",
       "  'phone',\n",
       "  'ever',\n",
       "  'short',\n",
       "  'battery',\n",
       "  'life',\n",
       "  'no',\n",
       "  'bluetooth',\n",
       "  'etc'],\n",
       " ['i', 'am', 'still', 'using', 'this', 'phone'],\n",
       " ['t301g',\n",
       "  'cant',\n",
       "  'disable',\n",
       "  'browser',\n",
       "  'tied',\n",
       "  'to',\n",
       "  'back',\n",
       "  'button',\n",
       "  'cost',\n",
       "  'you'],\n",
       " ['lousy', 'signalshort', 'battery', 'life'],\n",
       " ['cant', 'see', 'whos', 'texting', 'you'],\n",
       " ['sorry', 'i', 'bought', 'it'],\n",
       " ['great', 'for', 'everyday', 'calls'],\n",
       " ['soso', 'reception', 'poor', 'battery', 'life'],\n",
       " ['bluetooth',\n",
       "  'works',\n",
       "  'with',\n",
       "  'ford',\n",
       "  'sync',\n",
       "  'do',\n",
       "  'not',\n",
       "  'count',\n",
       "  'on',\n",
       "  'support'],\n",
       " ['the', 'phone', 'from', 'hell'],\n",
       " ['no', 'battery'],\n",
       " ['unlike', 'other', 'tracfones'],\n",
       " ['good'],\n",
       " ['tracfone', 'customer', 'service', 'issues', 'you', 'deserve', 'better'],\n",
       " ['five', 'stars'],\n",
       " ['samsung', 't301g', 'tracfone'],\n",
       " ['its', 'in', 'the', 'middle', 'somewhere'],\n",
       " ['great', 'deal'],\n",
       " ['four', 'stars'],\n",
       " ['i', 'love', 'this', 'phone'],\n",
       " ['no', 'signal'],\n",
       " ['joking'],\n",
       " ['dont', 'buy', 'this', 'phone'],\n",
       " ['trick', 'your', 'minutes', 'shame', 'on', 'tracfone'],\n",
       " ['im', 'trying', 'to', 'understand'],\n",
       " ['a', 'good', 'little', 'phone'],\n",
       " ['samsung', 't301g', 'prepaid', 'phone', 'tracfone'],\n",
       " ['good', 'lil', 'replacemnt', 'phone'],\n",
       " ['worth', 'the', 'current', 'price', 'of', '5'],\n",
       " ['samsung', 't301g'],\n",
       " ['not', 'bad', 'for', 'an', 'emergency', 'phone'],\n",
       " ['super', 'phone', 'super', 'price', 'super', 'amazon'],\n",
       " ['samsung', 't301g', 'prepaid', 'phone', 'tracfone'],\n",
       " ['simple', 'and', 'cheap', 'phone', 'for', 'kids'],\n",
       " ['old', 'but', 'reliable'],\n",
       " ['great', 'buy'],\n",
       " ['five', 'stars'],\n",
       " ['nice', 'low', 'cost', 'smart', 'phone'],\n",
       " ['good', 'value'],\n",
       " ['samsung', 't301g', 'prepaid', 'tracfone'],\n",
       " ['nice', 'phone'],\n",
       " ['five', 'stars'],\n",
       " ['great', 'item'],\n",
       " ['tracfone'],\n",
       " ['ok'],\n",
       " ['phone', 'tracfone'],\n",
       " ['ok'],\n",
       " ['five', 'stars'],\n",
       " ['i', 'think', 'its', 'pretty', 'good'],\n",
       " ['good', 'value'],\n",
       " ['five', 'stars'],\n",
       " ['love', 'this', 'repeat', 'phone'],\n",
       " ['not', 'bad', 'for', '3'],\n",
       " ['good', 'fone'],\n",
       " ['its', 'a', 'phone'],\n",
       " ['t301g', 'save', 'battery', 'life'],\n",
       " ['great', 'phone', 'for', 'the', 'money'],\n",
       " ['minutes', 'disappear'],\n",
       " ['the', 'best', 'of', 'tracfone', 'in', 'my', 'opinion'],\n",
       " ['how', 'to', 'fix', 'browser', 'problem'],\n",
       " ['area', 'code', '508', 'beware'],\n",
       " ['good', 'basic', 'phone', 'but', 'proprietary', 'limited', 'accessories'],\n",
       " ['have', '3', 'of', 'thesemake', 'that', 'four'],\n",
       " ['excellent', 'prepaid', 'option'],\n",
       " ['great', 'for', 'a', 'nocontract', 'dumb', 'phone'],\n",
       " ['excellent', 'phone'],\n",
       " ['worst', 'tracfone'],\n",
       " ['its',\n",
       "  'ok',\n",
       "  'except',\n",
       "  'for',\n",
       "  'the',\n",
       "  'browser',\n",
       "  'button',\n",
       "  'seems',\n",
       "  'like',\n",
       "  'a',\n",
       "  'scam',\n",
       "  'to',\n",
       "  'waste',\n",
       "  'your',\n",
       "  'units'],\n",
       " ['ok', 'phone', 'except', 'browser', 'button'],\n",
       " ['good', 'phone'],\n",
       " ['good', 'while', 'it', 'lasted'],\n",
       " ['got', 'rid', 'of', 'mine'],\n",
       " ['three', 'stars'],\n",
       " ['perfect', 'phone'],\n",
       " ['can', 'you', 'insert', 'your', 'own', 'sim', 'card'],\n",
       " ['not', 'better', 'than', 'the', 'lg600g'],\n",
       " ['how', 'does', 'one', 'change', 'time', 'via', 'dst'],\n",
       " ['this', 'slider', 'has', 'it', 'all'],\n",
       " ['not', 'worth', 'the', 'price'],\n",
       " ['short', 'battery', 'life'],\n",
       " ['horrible', 'horrible', 'phone'],\n",
       " ['phone', 'is', 'fine', 'antenna', 'is', 'not'],\n",
       " ['your', 'crazy'],\n",
       " ['they',\n",
       "  'sent',\n",
       "  'me',\n",
       "  'a',\n",
       "  'defective',\n",
       "  'one',\n",
       "  'but',\n",
       "  'all',\n",
       "  'in',\n",
       "  'all',\n",
       "  'its',\n",
       "  'still',\n",
       "  'excellent'],\n",
       " ['because', 'it', 'was', 'phased', 'out', 'by', 'att'],\n",
       " ['two', 'stars'],\n",
       " ['good', 'little', 'phone'],\n",
       " ['thanks'],\n",
       " ['its',\n",
       "  'doing',\n",
       "  'good',\n",
       "  'but',\n",
       "  'i',\n",
       "  'was',\n",
       "  'expecting',\n",
       "  'a',\n",
       "  'charger',\n",
       "  'to',\n",
       "  'come',\n",
       "  'with'],\n",
       " ['best', 'phone', 'ever', 'love', 'samsung'],\n",
       " ['would', 'not', 'hold', 'charge', 'brand', 'new', 'phone'],\n",
       " ['five', 'stars'],\n",
       " ['phone', 'okay', 'but'],\n",
       " ['terrific', 'basic', 'phone'],\n",
       " ['great', 'simple', 'phone'],\n",
       " ['best',\n",
       "  'for',\n",
       "  'making',\n",
       "  'and',\n",
       "  'recieving',\n",
       "  'calls',\n",
       "  'but',\n",
       "  'not',\n",
       "  'for',\n",
       "  'texting'],\n",
       " ['ok',\n",
       "  'but',\n",
       "  'most',\n",
       "  'stores',\n",
       "  'offer',\n",
       "  'twice',\n",
       "  'the',\n",
       "  'airtime',\n",
       "  'with',\n",
       "  'this',\n",
       "  'phone'],\n",
       " ['i', 'sell', 'things', 'sells', 'junk'],\n",
       " ['this',\n",
       "  'phone',\n",
       "  'can',\n",
       "  'not',\n",
       "  'be',\n",
       "  'used',\n",
       "  'with',\n",
       "  'a',\n",
       "  'wireless',\n",
       "  'headset'],\n",
       " ['none'],\n",
       " ['i', 'have', 'it', 'on', 'a', 'plan', 'not', 'prepaid'],\n",
       " ['the', 'stopphone'],\n",
       " ['remove',\n",
       "  'previous',\n",
       "  'negative',\n",
       "  'review',\n",
       "  'that',\n",
       "  'was',\n",
       "  'not',\n",
       "  'verizons',\n",
       "  'fault',\n",
       "  'not',\n",
       "  'the',\n",
       "  'seller'],\n",
       " ['great'],\n",
       " ['the',\n",
       "  'phone',\n",
       "  'is',\n",
       "  'simply',\n",
       "  'awesome',\n",
       "  'has',\n",
       "  'all',\n",
       "  'great',\n",
       "  'cell',\n",
       "  'phone',\n",
       "  'features'],\n",
       " ['wouldnt', 'charge', 'after', 'only', 'a', 'month', 'of', 'use'],\n",
       " ['wrong', 'item'],\n",
       " ['phone',\n",
       "  'was',\n",
       "  'great',\n",
       "  'but',\n",
       "  'the',\n",
       "  'new',\n",
       "  'battery',\n",
       "  'wouldnt',\n",
       "  'hold',\n",
       "  'a',\n",
       "  'charge'],\n",
       " ['dont', 'waste', 'your', 'money', 'on', 'this', 'junk'],\n",
       " ['verizon', 'will', 'not', 'use', 'those', 'phones', 'any', 'more'],\n",
       " ['five', 'stars'],\n",
       " ['junk'],\n",
       " ['the', 'battery', 'life', 'is', 'bad'],\n",
       " ['got', 'it', 'in', 'the', 'mail', 'way', 'way', 'late', 'and', 'then'],\n",
       " ['not', 'worth', 'it'],\n",
       " ['the',\n",
       "  'first',\n",
       "  'phone',\n",
       "  'i',\n",
       "  'got',\n",
       "  'from',\n",
       "  'this',\n",
       "  'company',\n",
       "  'was',\n",
       "  'not'],\n",
       " ['one', 'star'],\n",
       " [],\n",
       " ['dead', 'on', 'arrival'],\n",
       " ['i', 'love', 'saving', 'money', 'buying', 'used', 'phones'],\n",
       " ['good', 'phone'],\n",
       " ['didnt', 'work'],\n",
       " ['great', 'option', 'vs', 'data', 'plan', 'phones'],\n",
       " ['but',\n",
       "  'was',\n",
       "  'assured',\n",
       "  'it',\n",
       "  'worked',\n",
       "  'great',\n",
       "  'extremely',\n",
       "  'delayed',\n",
       "  'navigating',\n",
       "  'from',\n",
       "  'contacts',\n",
       "  'to',\n",
       "  'messages'],\n",
       " ['old', 'school'],\n",
       " ['love', 'this', 'phone'],\n",
       " ['worked',\n",
       "  'pretty',\n",
       "  'good',\n",
       "  'a',\n",
       "  'little',\n",
       "  'laggy',\n",
       "  'though',\n",
       "  'and',\n",
       "  'sometimes',\n",
       "  'it'],\n",
       " ['dont', 'buy', '5g', 'upgrades'],\n",
       " ['couldnt', 'activate', 'phone'],\n",
       " ['five', 'stars'],\n",
       " ['pleasantly', 'surprised'],\n",
       " ['wasted', '30'],\n",
       " ['not', 'happy'],\n",
       " ['worse', 'thing', 'i', 've', 'ever', 'bought'],\n",
       " ['battery', 'does', 'not', 'work'],\n",
       " ['the', 'charger', 'collapsed', 'on', 'receipt', 'dont', 'know', 'if', 'the'],\n",
       " ['defective', 'phone'],\n",
       " ['great', 'flip', 'phone'],\n",
       " ['good', 'for', 'the', 'money'],\n",
       " ['old', 'programming'],\n",
       " ['the', 'phone', 'is', 'the', 'best'],\n",
       " ['stil', 'works', 'like', 'new'],\n",
       " ['one', 'star'],\n",
       " ['network'],\n",
       " ['five', 'stars'],\n",
       " ['motorola', 'v3', 'razr', 'phone'],\n",
       " ['no', 'haggle', 'easy', 'install'],\n",
       " ['terrible'],\n",
       " ['love', 'em'],\n",
       " ['i', 'hate', 'it'],\n",
       " ['better', 'than', 'new'],\n",
       " ['three', 'stars'],\n",
       " ['great', 'look'],\n",
       " ['supplier',\n",
       "  'exceeded',\n",
       "  'my',\n",
       "  'expectations',\n",
       "  'as',\n",
       "  'the',\n",
       "  'quality',\n",
       "  'was',\n",
       "  'even',\n",
       "  'better',\n",
       "  'than',\n",
       "  'advertised',\n",
       "  'and',\n",
       "  'the',\n",
       "  'phone',\n",
       "  'go',\n",
       "  'here',\n",
       "  'quickly'],\n",
       " ['five', 'stars'],\n",
       " ['not', 'happy'],\n",
       " ['saved', 'money'],\n",
       " ['buyer', 'beware'],\n",
       " ['one', 'star'],\n",
       " ['bad', 'phone'],\n",
       " ['phone',\n",
       "  'was',\n",
       "  'in',\n",
       "  'excellent',\n",
       "  'condition',\n",
       "  'however',\n",
       "  'the',\n",
       "  'numbers',\n",
       "  '2',\n",
       "  '4',\n",
       "  '6',\n",
       "  'and'],\n",
       " ['used', 'is', 'used'],\n",
       " ['battery', 'doest', 'hold', 'the', 'charge'],\n",
       " ['no', 'problems'],\n",
       " ['four', 'stars'],\n",
       " ['one', 'star'],\n",
       " ['not', 'compatible', 'with', 'verizon'],\n",
       " ['same', 'problems', 'as', 'i', 'had'],\n",
       " ['broken'],\n",
       " ['broke'],\n",
       " ['horrible'],\n",
       " ['battery', 'was', 'the', 'issue'],\n",
       " ['waste', 'of', 'money'],\n",
       " ['used', 'cell', 'phone'],\n",
       " ['five', 'stars'],\n",
       " ['not', 'functional'],\n",
       " ['five', 'stars'],\n",
       " ['not', 'worth', 'the', 'money'],\n",
       " ['nice'],\n",
       " ['an', 'obvious', 'ripoff'],\n",
       " ['na'],\n",
       " ['one', 'star'],\n",
       " ['phone',\n",
       "  'is',\n",
       "  'great',\n",
       "  'battery',\n",
       "  'requires',\n",
       "  'recharging',\n",
       "  'several',\n",
       "  'time',\n",
       "  'a',\n",
       "  'day'],\n",
       " ['exactly', 'what', 'i', 'wanted'],\n",
       " ['four', 'stars'],\n",
       " ['five', 'stars'],\n",
       " ['motorola', 'v3m', 'razr', 'review'],\n",
       " ['phone', 'great', 'condition'],\n",
       " ['nice', 'phone', 'but', 'the', 'battery', 'is', 'bad'],\n",
       " ['five', 'stars'],\n",
       " ['this', 'was', 'exactly', 'what', 'i', 'wanted', 'it', 'doesnt', 'break'],\n",
       " ['one', 'star'],\n",
       " ['three', 'stars'],\n",
       " ['bad', 'phone', 'baby', 'company'],\n",
       " ['perfect', 'phone', 'for', 'me'],\n",
       " ['junk'],\n",
       " ['not', 'what', 'i', 'was', 'looking', 'for'],\n",
       " ['tried', 'true'],\n",
       " ['five', 'stars'],\n",
       " ['four', 'stars'],\n",
       " ['bad'],\n",
       " ['i', 'feel', 'duped'],\n",
       " ['iffy'],\n",
       " ['one', 'star'],\n",
       " ['i', 'was', 'very', 'glad', 'to', 'have', 'my', 'old', 'phone', 'back'],\n",
       " ['do', 'not', 'order', 'cell', 'phones', 'from', 'this', 'seller'],\n",
       " ['prices'],\n",
       " ['the', 'phone', 'could', 'not', 'be', 'activated', 'because', 'after', 'a'],\n",
       " ['what', 'a', 'let', 'down'],\n",
       " ['this', 'item', 'is', 'junk'],\n",
       " ['five', 'stars'],\n",
       " ['rate', 'the', 'product', 'not', 'the', 'seller', 'on', 'reviews'],\n",
       " ['old', 'faithful'],\n",
       " ['best', 'seller'],\n",
       " ['i',\n",
       "  'have',\n",
       "  'three',\n",
       "  'of',\n",
       "  'these',\n",
       "  'phones',\n",
       "  'plus',\n",
       "  'i',\n",
       "  'gave',\n",
       "  'one',\n",
       "  'to',\n",
       "  'my',\n",
       "  'son'],\n",
       " ['flimsy'],\n",
       " ['buyer', 'beware'],\n",
       " ['one', 'star'],\n",
       " ['seriously'],\n",
       " ['what', 'good', 'is', 'a', 'phone', 'without', 'a', 'battery'],\n",
       " ['it', 'did', 'not', 'work'],\n",
       " ['one', 'star'],\n",
       " ['another', 'satisfied', 'customer'],\n",
       " ['i',\n",
       "  'love',\n",
       "  'the',\n",
       "  'light',\n",
       "  'weight',\n",
       "  'slim',\n",
       "  'design',\n",
       "  'of',\n",
       "  'the',\n",
       "  'verizon',\n",
       "  'wireless',\n",
       "  'razr'],\n",
       " ['phone', 'looked', 'brand', 'new', 'no', 'problem', 'at', 'verizon', 'with'],\n",
       " ['it', 'works'],\n",
       " ['dont', 'buy'],\n",
       " ['excellent', 'phone', 'very', 'clean', 'very', 'good', 'condition'],\n",
       " ['easy', 'to', 'use'],\n",
       " ['five', 'stars'],\n",
       " ['motorola', 'used', 'cell', 'phone'],\n",
       " ['phone', 'was', 'fine'],\n",
       " ['charger',\n",
       "  'broke',\n",
       "  'and',\n",
       "  'battery',\n",
       "  'died',\n",
       "  'within',\n",
       "  'two',\n",
       "  'weeks',\n",
       "  'stability',\n",
       "  'issues',\n",
       "  'within',\n",
       "  'months'],\n",
       " ['junk'],\n",
       " ['perfect'],\n",
       " ['get', 'it', 'now', 'or', 'get', 'it', 'not', 'its', 'a', 'gamble'],\n",
       " ['christmas',\n",
       "  'gift',\n",
       "  'for',\n",
       "  'my',\n",
       "  'mother',\n",
       "  'in',\n",
       "  'law',\n",
       "  'havent',\n",
       "  'put',\n",
       "  'service',\n",
       "  'on',\n",
       "  'it',\n",
       "  'yet'],\n",
       " ['three', 'stars'],\n",
       " ['excellent', 'buy'],\n",
       " ['the', 'best', 'basic', 'phone', 'ever'],\n",
       " ['junk'],\n",
       " ['one', 'star'],\n",
       " ['good', 'price', 'on', 'a', 'solid', 'phone'],\n",
       " ['razrs', 'are', 'the', 'best'],\n",
       " ['very',\n",
       "  'disappointed',\n",
       "  'to',\n",
       "  'find',\n",
       "  'out',\n",
       "  'from',\n",
       "  'verizon',\n",
       "  'that',\n",
       "  'this',\n",
       "  'is',\n",
       "  'not'],\n",
       " ['dads', 'dont', 'like', 'change'],\n",
       " ['loved', 'it', 'and', 'had', 'it', 'for', 'a', 'long', 'time', 'until'],\n",
       " ['amazon',\n",
       "  'and',\n",
       "  'it',\n",
       "  'was',\n",
       "  'brand',\n",
       "  'new',\n",
       "  'and',\n",
       "  'it',\n",
       "  'works',\n",
       "  'great',\n",
       "  'now'],\n",
       " ['ended', 'up', 'in', 'the', 'trash', 'had', 'charging', 'problems'],\n",
       " ['its', 'a', 'pre', 'paid', 'phone', 'so', 'was', 'unable', 'to', 'activate'],\n",
       " ['five', 'stars'],\n",
       " ['lovedthis', 'phone'],\n",
       " ['poor', 'quality'],\n",
       " ['i', 'love', 'it'],\n",
       " ['great', 'while', 'it', 'lasted'],\n",
       " ['verizon', 'wireless', 'motorola', 'razr'],\n",
       " ['made', 'it', 'work'],\n",
       " ['five', 'stars'],\n",
       " ['well',\n",
       "  'its',\n",
       "  'the',\n",
       "  'device',\n",
       "  'i',\n",
       "  'wanted',\n",
       "  'but',\n",
       "  'not',\n",
       "  'fully',\n",
       "  'functional'],\n",
       " ['seller', 'was', 'okay', 'the', 'razr', 'phone', 'itself', 'is', 'great'],\n",
       " ['five', 'stars'],\n",
       " ['five', 'stars'],\n",
       " ['three', 'stars'],\n",
       " ['razor'],\n",
       " ['five', 'stars'],\n",
       " ['five', 'stars'],\n",
       " ['five', 'stars'],\n",
       " ['razor'],\n",
       " ['past', 'is', 'perfect'],\n",
       " ['too', 'old', 'but', 'nice', 'condtion'],\n",
       " ['great', 'phone'],\n",
       " ['four', 'stars'],\n",
       " ['five', 'stars'],\n",
       " ['disappointing', 'purchase'],\n",
       " ['five', 'stars'],\n",
       " ['good', 'deal'],\n",
       " ['works', 'great'],\n",
       " ['two', 'stars'],\n",
       " ['all',\n",
       "  'that',\n",
       "  'but',\n",
       "  'its',\n",
       "  'a',\n",
       "  'flip',\n",
       "  'phone',\n",
       "  'and',\n",
       "  'i',\n",
       "  'like',\n",
       "  'it',\n",
       "  'battery',\n",
       "  'isnt',\n",
       "  'the',\n",
       "  'best'],\n",
       " ['three', 'stars'],\n",
       " ['works', 'fantastic'],\n",
       " ['keeping', 'it', 'on', 'hand'],\n",
       " ['pink', 'verizon', 'razr', 'cell', 'phone'],\n",
       " ['not', 'again', 'never', 'ever'],\n",
       " ['phone'],\n",
       " ['nice'],\n",
       " ['it', 'worked'],\n",
       " ['four', 'stars'],\n",
       " ['would', 'have', 'been', 'been', '5'],\n",
       " ['frustrating'],\n",
       " ['battery'],\n",
       " ['great', 'flip', 'phone'],\n",
       " ['cellphone'],\n",
       " ['it',\n",
       "  'is',\n",
       "  'getting',\n",
       "  'harder',\n",
       "  'to',\n",
       "  'fined',\n",
       "  'a',\n",
       "  'phone',\n",
       "  'that',\n",
       "  'is',\n",
       "  'just',\n",
       "  'a',\n",
       "  'phone'],\n",
       " ['excellent', 'service', 'responses'],\n",
       " ['razr', 'v3m'],\n",
       " ['do', 'not', 'buy', 'from', 'this', 'seller'],\n",
       " ['two', 'stars'],\n",
       " ['four', 'stars'],\n",
       " ['one', 'star'],\n",
       " ['junk'],\n",
       " ['verizon', 'buyers', 'beware', 'of', 'older', 'phones'],\n",
       " ['most', 'durable', 'long', 'last', 'phone', 'ever'],\n",
       " ['purchased', 'as', 'spare', 'emergency', 'phones'],\n",
       " ['great', 'for', 'basic', 'phone'],\n",
       " ['cute', 'phone'],\n",
       " ['good', 'deal'],\n",
       " ['product', 'that', 'works'],\n",
       " ['five', 'stars'],\n",
       " ['great',\n",
       "  'phone',\n",
       "  'for',\n",
       "  'anyone',\n",
       "  'that',\n",
       "  'doesnt',\n",
       "  'use',\n",
       "  'a',\n",
       "  'phone',\n",
       "  'much'],\n",
       " ['good', 'phone'],\n",
       " ['good', 'phone'],\n",
       " ['for', 'the', 'price', 'its', 'a', 'great', 'phone'],\n",
       " ['was',\n",
       "  'for',\n",
       "  'my',\n",
       "  'mother',\n",
       "  'and',\n",
       "  'she',\n",
       "  'says',\n",
       "  'its',\n",
       "  'works',\n",
       "  'great',\n",
       "  'i',\n",
       "  'would',\n",
       "  'give',\n",
       "  'it',\n",
       "  'a',\n",
       "  '5',\n",
       "  'star'],\n",
       " ['brgary'],\n",
       " ['five', 'stars'],\n",
       " ['i',\n",
       "  'had',\n",
       "  'foolishly',\n",
       "  'expected',\n",
       "  'that',\n",
       "  'something',\n",
       "  'would',\n",
       "  'come',\n",
       "  'with',\n",
       "  'it'],\n",
       " ['five', 'stars'],\n",
       " ['five', 'stars'],\n",
       " ['five', 'stars'],\n",
       " ['00ps'],\n",
       " ['its', 'useful'],\n",
       " ['one', 'star'],\n",
       " ['five', 'stars'],\n",
       " ['did', 'not', 'work', 'for', 'me'],\n",
       " ['not', 'what', 'i', 'expected'],\n",
       " ['complaint',\n",
       "  're',\n",
       "  'crawfords',\n",
       "  'superstore',\n",
       "  'generic',\n",
       "  'response',\n",
       "  'to',\n",
       "  'feedback'],\n",
       " ['defective'],\n",
       " ['only', 'for', 'prepaid', 'plans'],\n",
       " ['bad', 'bad', 'ripped', 'off'],\n",
       " ['defective'],\n",
       " ['wong', 'phone'],\n",
       " ['verizon', 'phone'],\n",
       " ['great', 'basic', 'phone'],\n",
       " ['avoid',\n",
       "  'like',\n",
       "  'the',\n",
       "  'plague',\n",
       "  'bad',\n",
       "  'hardware',\n",
       "  'keystone',\n",
       "  'cops',\n",
       "  'service'],\n",
       " ['best', 'phone', 'and', 'signal', 'anywhere'],\n",
       " ['excellent',\n",
       "  'phone',\n",
       "  'but',\n",
       "  'old',\n",
       "  'technology',\n",
       "  'means',\n",
       "  'no',\n",
       "  'backuprestore',\n",
       "  'of',\n",
       "  'contacts'],\n",
       " ['awesome'],\n",
       " ['this', 'is', 'a', 'great', 'basic', 'phone'],\n",
       " ['sold',\n",
       "  'phone',\n",
       "  'drop',\n",
       "  'it',\n",
       "  'a',\n",
       "  'thousand',\n",
       "  'times',\n",
       "  'it',\n",
       "  'still',\n",
       "  'works',\n",
       "  'beautifully'],\n",
       " ['its', 'too', 'smooth'],\n",
       " ['this', 'phone', 'works', 'well', 'for', 'me'],\n",
       " ['not', 'happy'],\n",
       " ['no',\n",
       "  'stating',\n",
       "  'that',\n",
       "  'this',\n",
       "  'phone',\n",
       "  'has',\n",
       "  'the',\n",
       "  'old',\n",
       "  'style',\n",
       "  'charge'],\n",
       " ['verizon', 'samsung', 'mobile', 'phone'],\n",
       " ['good', 'phone', 'for', 'simple', 'needs'],\n",
       " ['excellent', 'phone'],\n",
       " ['make',\n",
       "  'sure',\n",
       "  'your',\n",
       "  'aware',\n",
       "  'that',\n",
       "  'it',\n",
       "  'can',\n",
       "  'only',\n",
       "  'be',\n",
       "  'used',\n",
       "  'with',\n",
       "  'prepaid',\n",
       "  'card'],\n",
       " ['phone'],\n",
       " ['great', 'phone'],\n",
       " ['five', 'stars'],\n",
       " ['one', 'star'],\n",
       " ['four', 'stars'],\n",
       " ['grat', 'phone', 'for', 'noisy', 'places'],\n",
       " ['verizon', 'accts'],\n",
       " ['five', 'stars'],\n",
       " ['five', 'stars'],\n",
       " ['four', 'stars'],\n",
       " ['i', 'bertha', 'byrd', 'like', 'your', 'service'],\n",
       " ['do', 'not', 'buy'],\n",
       " ['five', 'stars'],\n",
       " ['phone'],\n",
       " ['one', 'star'],\n",
       " ['practical', 'purposes'],\n",
       " ['one', 'star'],\n",
       " ['five', 'stars'],\n",
       " ['would', 'not', 'work', 'on', 'our', 'family', 'plan'],\n",
       " ['read', 'this'],\n",
       " ['prepaid', 'junk'],\n",
       " ['replace', 'phone'],\n",
       " ['two', 'not', 'identical', 'items'],\n",
       " ['excellent', 'service'],\n",
       " ['awesome', 'phone'],\n",
       " ['worst', 'flip', 'phone'],\n",
       " ['you',\n",
       "  'get',\n",
       "  'what',\n",
       "  'you',\n",
       "  'pay',\n",
       "  'for',\n",
       "  'in',\n",
       "  'this',\n",
       "  'case',\n",
       "  'not',\n",
       "  'much'],\n",
       " ['verizon', 'cellphone'],\n",
       " ['four', 'stars'],\n",
       " ['ripoff'],\n",
       " ['crazy'],\n",
       " ['false', 'advertisement'],\n",
       " ['best', 'little', 'cheap', 'phone', 'ever'],\n",
       " ['this',\n",
       "  'att',\n",
       "  'phone',\n",
       "  'does',\n",
       "  'not',\n",
       "  'work',\n",
       "  'in',\n",
       "  'todays',\n",
       "  'latest',\n",
       "  'att',\n",
       "  'network'],\n",
       " ['phones', 'fine', 'but', 'no', 'airtime', 'credit', 'at', 'all'],\n",
       " ['not', 'in', 'love'],\n",
       " ['great', 'cheap', 'phone'],\n",
       " ['gets', 'the', 'job', 'done'],\n",
       " ['a', 'great', 'basic', 'cellphone'],\n",
       " ['good', 'basic', 'phone'],\n",
       " ['simple', 'phone', 'good', 'qualityprice', 'ratio'],\n",
       " ['it', 'is', 'good', 'but', 'the', 'sound', 'is', 'low'],\n",
       " ['used', 'with', 'contract', 'sim'],\n",
       " ['works', 'for', 'a', 'few', 'weeks'],\n",
       " ['crap', 'phone'],\n",
       " ['not', 'as', 'simple', 'as', 'it', 'appears'],\n",
       " ['extremely', 'happy', 'buyer'],\n",
       " ['five', 'stars'],\n",
       " ['mobile', 'phone'],\n",
       " ['great', 'seller', 'fast', 'shipping'],\n",
       " ['cheap', 'phone'],\n",
       " ['five', 'stars'],\n",
       " ['five', 'stars'],\n",
       " ['i', 'love', 'this', 'phone'],\n",
       " ['good', 'phone'],\n",
       " ['five', 'stars'],\n",
       " ['i', 'love', 'this', 'phone'],\n",
       " ['not', 'happy'],\n",
       " ['would',\n",
       "  'of',\n",
       "  'liked',\n",
       "  'to',\n",
       "  'have',\n",
       "  'known',\n",
       "  'about',\n",
       "  'that',\n",
       "  'in',\n",
       "  'the',\n",
       "  'discrption'],\n",
       " ['samsung', 'a107'],\n",
       " ['great', 'buy'],\n",
       " ['crap'],\n",
       " ['great', 'buy'],\n",
       " ['recent',\n",
       "  'order',\n",
       "  'for',\n",
       "  'cheap',\n",
       "  'phone',\n",
       "  'samsung',\n",
       "  'a107',\n",
       "  'go',\n",
       "  'phone',\n",
       "  'att'],\n",
       " ['just', 'what', 'mom', 'wanted'],\n",
       " ['bad', 'reception'],\n",
       " ['very', 'poor', 'quality', 'for', 'sound'],\n",
       " ['great', 'phone'],\n",
       " ['didnt', 'work', 'properly', 'would', 'not', 'recommend', 'it'],\n",
       " ['two', 'stars'],\n",
       " ['it', 'is', 'ok', 'not', 'what', 'i', 'hoped', 'for'],\n",
       " ['five', 'stars'],\n",
       " ['it',\n",
       "  'cut',\n",
       "  'off',\n",
       "  'all',\n",
       "  'the',\n",
       "  'time',\n",
       "  'it',\n",
       "  'has',\n",
       "  'writting',\n",
       "  'on',\n",
       "  'the',\n",
       "  'screen',\n",
       "  'it',\n",
       "  'is',\n",
       "  'the',\n",
       "  'worth',\n",
       "  'phone',\n",
       "  'a',\n",
       "  'ever',\n",
       "  'had',\n",
       "  'in',\n",
       "  'my',\n",
       "  'life',\n",
       "  'i',\n",
       "  'would',\n",
       "  'not',\n",
       "  'recomend',\n",
       "  'it'],\n",
       " ['samsung', 'a107', 'prepaid', 'gophone'],\n",
       " ['very', 'good'],\n",
       " ['five', 'stars'],\n",
       " ['one', 'star'],\n",
       " ['go', 'to', 'att', 'directly', 'and', 'save'],\n",
       " ['buyer',\n",
       "  'beware',\n",
       "  'terrible',\n",
       "  'plan',\n",
       "  'options',\n",
       "  'for',\n",
       "  'infrequent',\n",
       "  'users'],\n",
       " ['issue', 'with', '15', 'airtime', 'credit'],\n",
       " ['useless'],\n",
       " ['good', 'phone', 'in', 'a', 'pinch'],\n",
       " ['maybe',\n",
       "  'good',\n",
       "  'kid',\n",
       "  'phone',\n",
       "  'for',\n",
       "  'text',\n",
       "  'msgs',\n",
       "  'but',\n",
       "  'not',\n",
       "  'much',\n",
       "  'for',\n",
       "  'voice'],\n",
       " ['cost', 'only', 'slightly', 'more', 'than', 'just', 'a', 'sim', 'chip'],\n",
       " ['simple',\n",
       "  'sturdy',\n",
       "  'spare',\n",
       "  'replacement',\n",
       "  'phone',\n",
       "  'for',\n",
       "  'clumsy',\n",
       "  'people'],\n",
       " ['good', 'as', '2nd', 'phone'],\n",
       " ['a',\n",
       "  'solutionpainless',\n",
       "  'replacement',\n",
       "  'of',\n",
       "  'a',\n",
       "  'lost',\n",
       "  'phone',\n",
       "  'on',\n",
       "  'a',\n",
       "  'family',\n",
       "  'plan'],\n",
       " ['poor', 'vibrate', 'poor', 'reception'],\n",
       " ['cheap', 'phone'],\n",
       " ['battery', 'problems', 'after', 'prolonged', 'use'],\n",
       " ['dont', 'waste', 'ryour', 'money'],\n",
       " ['good', 'little', 'phone'],\n",
       " ['great', 'phone'],\n",
       " ['been', 'a', 'good', 'phone', 'when', 'i', 'use', 'it'],\n",
       " ['works', 'atcually', 'barely', 'works', 'with', 'att'],\n",
       " ['gophone', 'it', 'does', 'what', 'i', 'need', 'it', 'to', 'do'],\n",
       " ['good', 'replacement'],\n",
       " ['designed', 'to', 'fail'],\n",
       " ['a', 'good', 'review', 'of', 'a', 'good', 'phone'],\n",
       " ['very', 'poor'],\n",
       " ['back', 'to', 'basics', 'a', 'phone', 'that', 'is', 'a', 'phone'],\n",
       " ['excellent', 'simple', 'phone'],\n",
       " ['samsung', 'gophone'],\n",
       " ['cell', 'phone'],\n",
       " ['okay', 'for', 'a', 'basic', 'phone'],\n",
       " ['missing', 'charge', 'cable'],\n",
       " ['not', 'a', 'user', 'friendly', 'startup'],\n",
       " ['missing'],\n",
       " ['good', 'value'],\n",
       " ['the',\n",
       "  'item',\n",
       "  'didnt',\n",
       "  'work',\n",
       "  'and',\n",
       "  'when',\n",
       "  'i',\n",
       "  'tried',\n",
       "  'charging',\n",
       "  'it'],\n",
       " ['three', 'stars'],\n",
       " ['prepaid', 'phone'],\n",
       " ['loved', 'it'],\n",
       " ['bought',\n",
       "  'this',\n",
       "  'for',\n",
       "  'my',\n",
       "  'dad',\n",
       "  'who',\n",
       "  'finally',\n",
       "  'decided',\n",
       "  'to',\n",
       "  'use'],\n",
       " ['good', 'in', 'a', 'simple', 'kind', 'of', 'way'],\n",
       " ['not', 'totally', 'happy'],\n",
       " ['prepaid', 'go', 'phone'],\n",
       " ['good', 'back', 'up', 'phone'],\n",
       " ['one', 'star'],\n",
       " ['meet', 'basic', 'needs'],\n",
       " ['solve', 'the', 'purpose'],\n",
       " ['10', 'att', 'with', 'no', 'free', 'airtime'],\n",
       " ['good', 'phone', 'deal'],\n",
       " ['four', 'stars'],\n",
       " ['doesnt', 'come', 'with', 'a', 'charger'],\n",
       " ['samsung', 'prepaid', 'go', 'phone'],\n",
       " ['excellant', 'value'],\n",
       " ['five', 'stars'],\n",
       " ['works'],\n",
       " ['good', 'sale'],\n",
       " ['one', 'star'],\n",
       " ['phone', 'works', 'fine'],\n",
       " ['five', 'stars'],\n",
       " ['can',\n",
       "  'not',\n",
       "  'hear',\n",
       "  'other',\n",
       "  'end',\n",
       "  'no',\n",
       "  'speaker',\n",
       "  'phone',\n",
       "  'optionjunk'],\n",
       " ['three', 'stars'],\n",
       " ['great', 'little', 'phone'],\n",
       " ['five', 'stars'],\n",
       " ['one', 'star'],\n",
       " ['four', 'stars'],\n",
       " ['too', 'small'],\n",
       " ['phone'],\n",
       " ['used', 'damaged', 'item', 'upon', 'delivery'],\n",
       " ['ripoff', 'alert', 'buyer', 'beware'],\n",
       " ['dont', 'buy', 'this'],\n",
       " ['outstanding', 'value', 'great', 'seller'],\n",
       " ['last', 'of', 'the', 'great', '2g', 'phones'],\n",
       " ['good', 'for', 'talk', 'only', 'well', 'constructed'],\n",
       " ['simplicity', 'manifested', 'through', 'gophone'],\n",
       " ['backup', 'emergency', 'phone'],\n",
       " ['amazon', 'claims', 'there', 'are', 'no', 'phones', 'available'],\n",
       " ['it', 'has', 'a', 'mind', 'of', 'its', 'own'],\n",
       " ['important',\n",
       "  'this',\n",
       "  'phone',\n",
       "  'will',\n",
       "  'not',\n",
       "  'work',\n",
       "  'with',\n",
       "  'att',\n",
       "  'go',\n",
       "  'phone',\n",
       "  'service',\n",
       "  'as',\n",
       "  'of',\n",
       "  'december',\n",
       "  '2016'],\n",
       " ['i', 'use', 'it', 'as', 'an', 'alarm', 'clock'],\n",
       " ['gives', 'a', 'whole', 'new', 'meaning', 'to', 'cheap'],\n",
       " ['simplistic', 'phone', 'great', 'as', 'a', 'backup'],\n",
       " ['terrible', 'hardware'],\n",
       " ['dont', 'buy'],\n",
       " ['fine', 'for', 'basic', 'use'],\n",
       " ['nice', 'phone'],\n",
       " ['do', 'not', 'get', 'this', 'phone'],\n",
       " ['dont', 'buy'],\n",
       " ['old', 'school', 'phone'],\n",
       " ['not', 'very', 'good', 'at', 'all'],\n",
       " ['phone',\n",
       "  'lacks',\n",
       "  'necessary',\n",
       "  'hardware',\n",
       "  'to',\n",
       "  'make',\n",
       "  'it',\n",
       "  'compatible',\n",
       "  'to',\n",
       "  'lg'],\n",
       " ['item', 'new', 'as', 'promised'],\n",
       " ['poor', 'product'],\n",
       " ['great',\n",
       "  'phone',\n",
       "  'for',\n",
       "  'the',\n",
       "  'baby',\n",
       "  'boomersi',\n",
       "  'still',\n",
       "  'need',\n",
       "  'a',\n",
       "  'little',\n",
       "  'help'],\n",
       " ['the',\n",
       "  'phone',\n",
       "  'is',\n",
       "  'easy',\n",
       "  'to',\n",
       "  'use',\n",
       "  'and',\n",
       "  'if',\n",
       "  'i',\n",
       "  'drop',\n",
       "  'it',\n",
       "  'the',\n",
       "  'phone',\n",
       "  'doesnt',\n",
       "  'break'],\n",
       " ['easy', 'to', 'order'],\n",
       " ['best', 'phone', 'ever'],\n",
       " ['great', 'gift'],\n",
       " ['great', 'flip'],\n",
       " ['if', 'ptt', 'bothers', 'you'],\n",
       " ['step', 'down', 'from', 'motorola', 'tundra'],\n",
       " ['crappy', 'reception'],\n",
       " ['much', 'better', 'than', 'the', 'original'],\n",
       " ['defective', 'product', 'with', 'invalid', 'waranty'],\n",
       " ['shame', 'on', 'samsung'],\n",
       " ['samsungs', 'rugby', 'a', 'vexatious', 'wimp', 'of', 'a', 'phone'],\n",
       " ['laportels'],\n",
       " ['ok', 'phone', 'but', 'serious', 'bug'],\n",
       " ['decent', 'for', 'a', 'notsmartphone'],\n",
       " ['very', 'rugged', 'phone'],\n",
       " ['happy'],\n",
       " ['ptt', 'cure', 'nonpermanent', 'solution', 'silicone'],\n",
       " ['awesome', 'senior', 'phone'],\n",
       " ['great', 'phone', 'so', 'far', 'for', 'us'],\n",
       " ['durable'],\n",
       " ['landscape', 'contractors', 'dream'],\n",
       " ['rugged', 'phone', 'dont', 'make', 'me', 'laugh'],\n",
       " ['this',\n",
       "  'review',\n",
       "  'is',\n",
       "  'for',\n",
       "  'the',\n",
       "  'att',\n",
       "  'service',\n",
       "  'that',\n",
       "  'you',\n",
       "  'may',\n",
       "  'endure',\n",
       "  'with',\n",
       "  'this',\n",
       "  'phone'],\n",
       " ['best', 'i', 'have', 'owened'],\n",
       " ['not', 'as', 'rugged', 'as', 'i', 'anticipated'],\n",
       " ['great'],\n",
       " ['two', 'stars'],\n",
       " ['good', 'phone', 'unless', 'you', 'want', 'to', 'print', 'your', 'text'],\n",
       " ['virtual', 'entrapment'],\n",
       " ['i', 'love', 'this', 'phone'],\n",
       " ['a', 'great', 'phone', 'if', 'rugged', 'is', 'your', 'priority'],\n",
       " ['not', 'really', 'durable'],\n",
       " ['trash'],\n",
       " ['disappointed'],\n",
       " ['not', 'the', 'durable', 'phone', 'you', 'want'],\n",
       " ['junk'],\n",
       " ['couldnt', 'be', 'happier', 'unless', 'it', 'was', 'free'],\n",
       " ['five', 'stars'],\n",
       " ['samsung', 'rugby', 'ii', 'will', 'not', 'connect', 'to', 'any', 'pc'],\n",
       " ['arguably', 'the', 'best', 'flip', 'phone', 'on', 'the', 'market'],\n",
       " ['this', 'must', 'be', 'the', 'waterboy', 'of', 'the', 'rugby', 'team'],\n",
       " ['the', 'speaker', 'is', 'terrible', 'the', 'worse', 'of', 'the', 'worse'],\n",
       " ['best', 'international', 'phone', 'ever'],\n",
       " ['not', 'even', 'close', 'to', 'rugged'],\n",
       " ['this',\n",
       "  'is',\n",
       "  'a',\n",
       "  'great',\n",
       "  'phone',\n",
       "  'for',\n",
       "  'those',\n",
       "  'not',\n",
       "  'interested',\n",
       "  'in',\n",
       "  'smartphones'],\n",
       " ['all', 'physical'],\n",
       " ['28', 'days', 'later', 'and'],\n",
       " ['so', 'far', 'the', 'best', 'phone', 'i', 'ever', 'had'],\n",
       " ['not', 'the', 'durable', 'phone', 'they', 'say'],\n",
       " ['excellent', 'phone'],\n",
       " ['solid',\n",
       "  'phone',\n",
       "  'broke',\n",
       "  'the',\n",
       "  'front',\n",
       "  'screen',\n",
       "  'after',\n",
       "  'a',\n",
       "  'few',\n",
       "  'months',\n",
       "  'not',\n",
       "  'as',\n",
       "  'indestructible',\n",
       "  'as',\n",
       "  'i',\n",
       "  'hoped'],\n",
       " ['nice', 'sturdy', 'phone'],\n",
       " ['great', 'phonedont', 'listen', 'to', 'the', 'negative', 'reviews'],\n",
       " ['read', 'this'],\n",
       " ['better', 'available'],\n",
       " ['push', 'to', 'talk'],\n",
       " ['how', 'do', 'i', 'hate', 'thee', 'let', 'me', 'count', 'the', 'ways'],\n",
       " ['no', 'a', 'happy', 'customer'],\n",
       " ['sending',\n",
       "  'a',\n",
       "  'text',\n",
       "  'with',\n",
       "  'samsung',\n",
       "  'rugby',\n",
       "  'ii',\n",
       "  'in',\n",
       "  'just',\n",
       "  '15',\n",
       "  'easy',\n",
       "  'steps'],\n",
       " ['the',\n",
       "  'phone',\n",
       "  'is',\n",
       "  'good',\n",
       "  'if',\n",
       "  'you',\n",
       "  'do',\n",
       "  'not',\n",
       "  'crack',\n",
       "  'the',\n",
       "  'screen'],\n",
       " ['phone', 'came', 'very', 'clean', 'for', 'what', 'i'],\n",
       " ['two', 'stars'],\n",
       " ['it', 'is', 'ok', 'but'],\n",
       " ['not', 'blue', 'tooth', 'capable'],\n",
       " ['gustogood', 'verizonbad'],\n",
       " ['alarm', 'is', 'unreliable'],\n",
       " ['texting', 'issues', 'with', 'this', 'phone'],\n",
       " ['software', 'wont', 'work', 'with', '64', 'bit', 'windows', '7'],\n",
       " ['phone', 'wont', 'stop', 'charging'],\n",
       " ['phone',\n",
       "  'does',\n",
       "  'not',\n",
       "  'charge',\n",
       "  'after',\n",
       "  'a',\n",
       "  'short',\n",
       "  'time',\n",
       "  'battery',\n",
       "  'not',\n",
       "  'the',\n",
       "  'problem'],\n",
       " ['poor', 'reception'],\n",
       " ['samsung', 'gusto', 'alarm', 'feature', 'does', 'not', 'work'],\n",
       " ['what', 'a', 'dissapointment'],\n",
       " ['beyond', 'trash'],\n",
       " ['no', 'frillsbe', 'careful'],\n",
       " ['somewhat', 'disappointed'],\n",
       " ['worst', 'cell', 'phone', 'we', 'ever', 'had'],\n",
       " ['alarm', 'malfunctions'],\n",
       " ['this', 'one', 'is', 'worth', 'keeping'],\n",
       " ['ive',\n",
       "  'used',\n",
       "  'this',\n",
       "  'model',\n",
       "  'phone',\n",
       "  'for',\n",
       "  'a',\n",
       "  'couple',\n",
       "  'years',\n",
       "  'now',\n",
       "  'and',\n",
       "  'i',\n",
       "  'like',\n",
       "  'the',\n",
       "  'phones'],\n",
       " ['buy', 'from', 'quality', 'used', 'phones', 'for', 'fast', 'shipping'],\n",
       " ['false', 'advertising'],\n",
       " ['durable', 'well', 'built', 'easy', 'activation'],\n",
       " ['good', 'as', 'a', 'replacement', 'phone', 'in', 'a', 'pinch'],\n",
       " ['but',\n",
       "  'its',\n",
       "  'nice',\n",
       "  'to',\n",
       "  'know',\n",
       "  'those',\n",
       "  'bells',\n",
       "  'and',\n",
       "  'whistles',\n",
       "  'are',\n",
       "  'there',\n",
       "  'if'],\n",
       " ['as', 'good', 'as', 'ever'],\n",
       " ['very', 'good', 'dumbphone'],\n",
       " ['this', 'is', 'a', 'replcement'],\n",
       " ['great', 'phone'],\n",
       " ['excellent', 'quality'],\n",
       " ['a',\n",
       "  'good',\n",
       "  'buy',\n",
       "  'for',\n",
       "  'people',\n",
       "  'looking',\n",
       "  'for',\n",
       "  'just',\n",
       "  'a',\n",
       "  'simple',\n",
       "  'flip',\n",
       "  'phone'],\n",
       " ['love', 'this', 'phone'],\n",
       " ['rugged', 'phone', 'great', 'price'],\n",
       " ['great', 'phone'],\n",
       " ['one', 'star'],\n",
       " ['just', 'what', 'i', 'was', 'hoping', 'for'],\n",
       " ['fits', 'perfectly', 'in', 'my', 'carpenter', 'jeans', 'pocket'],\n",
       " ['good'],\n",
       " ['easy', 'to', 'set', 'up'],\n",
       " ['dont', 'buy'],\n",
       " ['avoid', 'at', 'all', 'costs'],\n",
       " ['im', 'very', 'disappointed'],\n",
       " ['five', 'stars'],\n",
       " ['husband', 'loves', 'his', 'retro', 'dumb', 'phone'],\n",
       " ['samsung', 'makes', 'great', 'products'],\n",
       " ['fast', 'delivery'],\n",
       " ['three', 'stars'],\n",
       " ['five', 'stars'],\n",
       " ['great', 'phone', 'for', 'what', 'we', 'needed'],\n",
       " ['but', 'overall', 'great'],\n",
       " ['nothing'],\n",
       " ['good', 'phone', 'the', 'price', 'is', 'a', 'little', 'high', 'for'],\n",
       " ['quick', 'shipping', 'used', 'product', 'works', 'great', 'no'],\n",
       " ['phone'],\n",
       " ['new', 'phone'],\n",
       " ['five', 'stars'],\n",
       " ['four', 'stars'],\n",
       " ['well', 'received'],\n",
       " ['five', 'stars'],\n",
       " ['said', 'good', 'to', 'very', 'good'],\n",
       " ['five', 'stars'],\n",
       " ['sucks', 'refurbished', 'phone'],\n",
       " ['sells', 'broken', 'products'],\n",
       " ['it',\n",
       "  'was',\n",
       "  'funny',\n",
       "  'that',\n",
       "  'i',\n",
       "  'received',\n",
       "  '2',\n",
       "  'phones',\n",
       "  'like',\n",
       "  'that'],\n",
       " ['great', 'reception'],\n",
       " ['five', 'stars'],\n",
       " ['four', 'stars'],\n",
       " ['four', 'stars'],\n",
       " ['five', 'stars'],\n",
       " ['alright'],\n",
       " ['three', 'stars'],\n",
       " ['was', 'exactly', 'what', 'it', 'was', 'a', 'little', 'late', 'but', 'good'],\n",
       " ['five', 'stars'],\n",
       " ['fast', 'service', 'this', 'was', 'a', 'refurbished', 'phone', 'no'],\n",
       " ['four', 'stars'],\n",
       " ['the', 'convoy', 'outsmarts', 'the', 'smartest', 'smart', 'phone'],\n",
       " ['good', 'phone', 'good', 'condition', 'but', 'the', 'micro', 'usb', 'which'],\n",
       " ['ok'],\n",
       " ['five', 'stars'],\n",
       " ['samsung', 'u640', 'great', 'flip', 'phone'],\n",
       " ['still',\n",
       "  'the',\n",
       "  'bestoriginal',\n",
       "  'samsung',\n",
       "  'convoy',\n",
       "  'cell',\n",
       "  'phone',\n",
       "  'from',\n",
       "  'targetwireless',\n",
       "  'refurbished'],\n",
       " ['broken', 'phones', 'were', 'sent'],\n",
       " ['good', 'phone', 'so', 'far'],\n",
       " ['this', 'phone', 'was', 'listed', 'as', 'fully', 'functional', 'however'],\n",
       " ['works', 'well'],\n",
       " ['item', 'lost', 'or', 'stole'],\n",
       " ['dud'],\n",
       " ['this', 'was', 'a', 'replacement', 'for', 'the', 'phone', 'i', 'had', 'for'],\n",
       " ['five', 'stars'],\n",
       " ['a',\n",
       "  'little',\n",
       "  'disappointed',\n",
       "  'in',\n",
       "  'that',\n",
       "  'the',\n",
       "  'screen',\n",
       "  'was',\n",
       "  'cracked',\n",
       "  'which',\n",
       "  'was',\n",
       "  'different'],\n",
       " ['one', 'star'],\n",
       " ['five', 'stars'],\n",
       " ['ask', 'the', 'right', 'questions'],\n",
       " ['four', 'stars'],\n",
       " ['exact', 'replacement', 'as', 'advertised'],\n",
       " ['i', 'still', 'like', 'it'],\n",
       " ['five', 'stars'],\n",
       " ['husband', 'very', 'pleased', 'with', 'it'],\n",
       " ['it',\n",
       "  'was',\n",
       "  'a',\n",
       "  'terrible',\n",
       "  'experience',\n",
       "  'and',\n",
       "  'i',\n",
       "  'still',\n",
       "  'have',\n",
       "  'not',\n",
       "  'gotten',\n",
       "  'my',\n",
       "  'money'],\n",
       " ['cheap', 'replacement', 'phone'],\n",
       " ['five', 'stars'],\n",
       " ['four', 'stars'],\n",
       " ['five', 'stars'],\n",
       " ['five', 'stars'],\n",
       " ['cellphone', 'happiness'],\n",
       " ['five', 'stars'],\n",
       " ['five', 'stars'],\n",
       " ['better', 'then', 'new'],\n",
       " ['five', 'stars'],\n",
       " ['works', 'as', 'expected'],\n",
       " ['five', 'stars'],\n",
       " ['five', 'stars'],\n",
       " ['best', 'company', 'good', 'products'],\n",
       " ['five', 'stars'],\n",
       " ['corrected', 'review'],\n",
       " ['great', 'basic', 'phone'],\n",
       " ['four', 'stars'],\n",
       " ['better',\n",
       "  'off',\n",
       "  'keeping',\n",
       "  'the',\n",
       "  'u640',\n",
       "  'the',\n",
       "  'standby',\n",
       "  'is',\n",
       "  'far',\n",
       "  'better',\n",
       "  'then',\n",
       "  'todays'],\n",
       " ['phone',\n",
       "  'works',\n",
       "  'good',\n",
       "  'the',\n",
       "  'only',\n",
       "  'problem',\n",
       "  'was',\n",
       "  'it',\n",
       "  'still',\n",
       "  'had',\n",
       "  'all'],\n",
       " ['five', 'stars'],\n",
       " ['great', 'phone', 'for', 'the'],\n",
       " ['so', 'far', 'really', 'good', 'amazing', 'bargain', 'at', '10'],\n",
       " ['samsung',\n",
       "  'r355c',\n",
       "  'n10',\n",
       "  'phone',\n",
       "  'one',\n",
       "  'of',\n",
       "  'the',\n",
       "  'best',\n",
       "  '999',\n",
       "  'deals',\n",
       "  'ever'],\n",
       " ['good', 'for', 'the', 'purpose'],\n",
       " ['for',\n",
       "  'the',\n",
       "  'price',\n",
       "  'the',\n",
       "  'overall',\n",
       "  'quality',\n",
       "  'and',\n",
       "  'everything',\n",
       "  'else',\n",
       "  'this',\n",
       "  'was',\n",
       "  'a',\n",
       "  'steal'],\n",
       " ['great', 'phone'],\n",
       " ['so', 'much', 'for', 'so', 'little'],\n",
       " ['solid', 'feature', 'phone'],\n",
       " ['works', 'just', 'fine'],\n",
       " ['cdma', 'new', 'hampshire', 'for', 'us', 'cellular', 'people'],\n",
       " ['samsung', 'r355c'],\n",
       " ['my', 'son', 'loves', 'this', 'phone'],\n",
       " ['great', 'value', 'for', 'the', 'money'],\n",
       " ['decent'],\n",
       " ['works', 'good'],\n",
       " ['good', 'buy'],\n",
       " ['great', 'value'],\n",
       " ['samsung', 'r355c', 'net10', 'unlimited'],\n",
       " ['nice', 'phone'],\n",
       " ['not',\n",
       "  'a',\n",
       "  'smart',\n",
       "  'phone',\n",
       "  'but',\n",
       "  'this',\n",
       "  'one',\n",
       "  'does',\n",
       "  'everything',\n",
       "  'well'],\n",
       " ['need', 'a', 'cheap', 'no', 'frills', 'phone', 'this', 'is', 'it'],\n",
       " ['not', 'what', 'i', 'needed'],\n",
       " ['great', 'phone'],\n",
       " ['good', 'phone', 'and', 'service', 'for', 'someone', 'on', 'a', 'budget'],\n",
       " ['cant', 'beat', 'it', 'for', 'the', 'price'],\n",
       " ['excellent', 'seller', 'would', 'purchase', 'from', 'seller', 'again'],\n",
       " ['great', 'phone'],\n",
       " ['great',\n",
       "  'cute',\n",
       "  'lilcell',\n",
       "  'great',\n",
       "  'seller',\n",
       "  'shipped',\n",
       "  'fedex',\n",
       "  'got',\n",
       "  'it',\n",
       "  'in',\n",
       "  '1',\n",
       "  'day'],\n",
       " ['this',\n",
       "  'is',\n",
       "  'a',\n",
       "  'great',\n",
       "  'and',\n",
       "  'affordable',\n",
       "  'phone',\n",
       "  'for',\n",
       "  'calling',\n",
       "  'and',\n",
       "  'texting',\n",
       "  'purposes'],\n",
       " ['didnt', 'care', 'for', 'this', 'phone'],\n",
       " ['otherwise', 'i', 'guess', 'its', 'fine', 'for', 'the', 'u'],\n",
       " ['new', 'works', 'great'],\n",
       " ['excellent', 'bargain', 'terrible', 'service'],\n",
       " ['nice', 'phone'],\n",
       " ['unreal'],\n",
       " ['great', 'deal', 'on', 'a', 'net10', 'phone'],\n",
       " ['nice'],\n",
       " ['four', 'stars'],\n",
       " ['excellent', 'lowcost', 'phone'],\n",
       " ['samsung', 'r355c', 'net', '10', 'unlimited'],\n",
       " ['this', 'is', 'a', 'good', 'phone', 'for', 'the', 'money'],\n",
       " ['five', 'stars'],\n",
       " ['i', 'can', 'get', 'service', 'anywhere', 'nearly'],\n",
       " ['great', 'phone'],\n",
       " ['really', 'like', 'phone'],\n",
       " ['jill'],\n",
       " ['excellent', 'talk', 'text', 'phone'],\n",
       " ['omg', 'she', 'loves', 'it'],\n",
       " ['paid', '999', 'couldnt', 'be', 'happier'],\n",
       " ['i', 'like', 'it'],\n",
       " ['phone'],\n",
       " ['very', 'disappointed', 'wthis', 'model'],\n",
       " ['great', 'phone'],\n",
       " ['not', 'the', 'greatest'],\n",
       " ['just', 'one', 'thing', 'wrong'],\n",
       " ['dead', 'battery'],\n",
       " ['three', 'stars'],\n",
       " ['my', 'new', 'phone'],\n",
       " ['wouldnt', 'even', 'power', 'up'],\n",
       " ['read', 'the', 'review', 'for', 'why', 'i', 'gave', 'it', 'this', 'rating'],\n",
       " ['it', 'is', 'what', 'it', 'says', 'it', 'is'],\n",
       " ['this', 'was', 'terrible'],\n",
       " ['disappointed'],\n",
       " ['net', '10'],\n",
       " ['solid', 'phone'],\n",
       " ['nice', 'phone'],\n",
       " ['so',\n",
       "  'good',\n",
       "  'i',\n",
       "  'just',\n",
       "  'ordered',\n",
       "  'another',\n",
       "  'r355c',\n",
       "  'net10',\n",
       "  'phone',\n",
       "  'update'],\n",
       " ['over', 'all', 'good', 'phone', 'but', 'has', 'some', 'annoyances'],\n",
       " ['at', 'last', 'good', 'reception', 'at', 'a', 'reasonable', 'price'],\n",
       " ['thank', 'you', 'so', 'much', 'for', 'this', 'great', 'deal'],\n",
       " ['fantastic', 'and', 'cheap', 'for', 'callstexting'],\n",
       " ['better', 'than', 'expected'],\n",
       " ['be',\n",
       "  'careful',\n",
       "  'you',\n",
       "  'find',\n",
       "  'out',\n",
       "  'what',\n",
       "  'cell',\n",
       "  'phone',\n",
       "  'companies',\n",
       "  'are',\n",
       "  'active',\n",
       "  'in',\n",
       "  'your',\n",
       "  'area',\n",
       "  'prior',\n",
       "  'to',\n",
       "  'buying',\n",
       "  'a',\n",
       "  'cell',\n",
       "  'phone',\n",
       "  'on',\n",
       "  'line'],\n",
       " ['better', 'than', 'my', 'android', 'in', 'some', 'ways'],\n",
       " ['unbelievable'],\n",
       " ['a', 'great', 'cdma', 'phone', 'for', 'rural', 'areas'],\n",
       " ['good', 'cheap', 'phone'],\n",
       " ['one', 'of', 'the', 'best'],\n",
       " ['overall', 'a', 'solid', 'performer'],\n",
       " ['their',\n",
       "  'customer',\n",
       "  'service',\n",
       "  'is',\n",
       "  'horrible',\n",
       "  'i',\n",
       "  'returned',\n",
       "  'it',\n",
       "  'to',\n",
       "  'amazon'],\n",
       " ['very', 'nice', 'phone'],\n",
       " ['purchased', 'as', 'a', 'backup', 'phone'],\n",
       " ['an', 'upgrade'],\n",
       " ['great', 'little', 'phone'],\n",
       " ['great', 'battery', 'life'],\n",
       " ['received', 'as', 'expected', 'is', 'working', 'with', 'net10'],\n",
       " ['samsung', 'r355c', 'net', '10', 'unlimited'],\n",
       " ['very', 'expensive', 'looking', 'phone'],\n",
       " ['not', 'excited'],\n",
       " ['i', 'lost', 'my', 'phone'],\n",
       " ['great', 'basic', 'phone'],\n",
       " ['great', 'price', 'dont', 'change'],\n",
       " ['great', 'little', 'phone'],\n",
       " ['good',\n",
       "  'phone',\n",
       "  'price',\n",
       "  'and',\n",
       "  'features',\n",
       "  'make',\n",
       "  'it',\n",
       "  'a',\n",
       "  'winning',\n",
       "  'combination',\n",
       "  'for',\n",
       "  'the',\n",
       "  'prepaid',\n",
       "  'customer',\n",
       "  'who',\n",
       "  'wants',\n",
       "  'mp3',\n",
       "  'playback',\n",
       "  'and',\n",
       "  'qwerty'],\n",
       " ['five', 'stars'],\n",
       " ['nice', 'phone'],\n",
       " ['80', 'it', 'a', 'good'],\n",
       " ['it', 'is', 'easily', 'set', 'to', 'on'],\n",
       " ['does', 'the', 'job'],\n",
       " ['qwerty'],\n",
       " ['great', 'phone', 'for', 'such', 'a', 'small', 'price'],\n",
       " ['perfect'],\n",
       " [],\n",
       " ['works', 'well', 'for', '10'],\n",
       " ['love', 'it'],\n",
       " ['three', 'stars'],\n",
       " ['great', 'phone'],\n",
       " ['easy', 'to', 'use', 'phone'],\n",
       " ['five', 'stars'],\n",
       " ['two', 'thumbs', 'up'],\n",
       " ['wife', 'is', 'very', 'happy', 'with', 'it'],\n",
       " ['good', 'deal', 'for', 'the', 'price'],\n",
       " ['net', '10', 'samsung', 'phone'],\n",
       " ['just', 'what', 'you', 'need'],\n",
       " ['great', 'inexpensive', 'phone'],\n",
       " ['awesome', 'phone', 'only', '2', 'flaws'],\n",
       " ['four', 'stars'],\n",
       " ['good', 'phone'],\n",
       " ['five', 'stars'],\n",
       " ['great', 'phone', 'for', 'your', 'money'],\n",
       " ['three', 'stars'],\n",
       " ['decent', 'phone', 'for', 'the', 'money'],\n",
       " ['four', 'stars'],\n",
       " ['all', 'good'],\n",
       " ['a', 'great', 'buy'],\n",
       " ['phone', 'ok', 'net10', 'service', 'unbelievably', 'bad'],\n",
       " ['liked'],\n",
       " ['cant', 'beat', 'the', 'price'],\n",
       " ['replacement', 'net10', 'phone', 'worth', 'the', 'money'],\n",
       " ['will', 'not', 'charge'],\n",
       " ['while', 'it', 'worked', 'it', 'was', 'fine'],\n",
       " ['five', 'stars'],\n",
       " ['one', 'star'],\n",
       " ['great', 'phone', 'for', 'the', 'price'],\n",
       " ['good', 'phone'],\n",
       " ['good', 'for', 'the', 'money', 'but', 'archaic'],\n",
       " ['not', 'meant', 'for', 'country', 'folks'],\n",
       " ['i', 'dont', 'know', 'how', 'this', 'phone', 'works'],\n",
       " ['no', 'good'],\n",
       " ['samsung', 'r355c', 'net', '10', 'phone'],\n",
       " ['no', 'battery', 'included'],\n",
       " ['battery', 'is', 'great'],\n",
       " ['three', 'stars'],\n",
       " ['one',\n",
       "  'hell',\n",
       "  'of',\n",
       "  'a',\n",
       "  'deal',\n",
       "  'for',\n",
       "  'only',\n",
       "  '999',\n",
       "  'here',\n",
       "  'at',\n",
       "  'amazon'],\n",
       " ['good', 'phone'],\n",
       " ['dont', 'buy', 'from', 'this', 'person', 'one', 'of', 'the', 'phone', 'was'],\n",
       " ['lotsa', 'phone', 'for', 'not', 'a', 'lotta', 'moolah'],\n",
       " ['overall', 'a', 'very', 'good', 'phone'],\n",
       " ['really', 'impressed', 'with', 'the', 'phone', 'and', 'windows', '75'],\n",
       " ['good', 'start'],\n",
       " ['a', 'great', 'travel', 'and', 'backup', 'phone'],\n",
       " ['excellent', 'phone'],\n",
       " ['disappointed', 'with', 'phone', 'and', 'microsoft'],\n",
       " ['another', 'good', 'samsung', 'product'],\n",
       " ['this', 'is', 'the', 'most', 'undervalued', 'phone', 'on', 'amazon'],\n",
       " ['highly', 'satisfied', 'again'],\n",
       " ['awesome', 'deal'],\n",
       " ['get', 'one'],\n",
       " ['first', 'time', 'unlocked', 'buyer'],\n",
       " ['great', 'hardware', 'good', 'os', 'terrible', 'market'],\n",
       " ...]"
      ]
     },
     "execution_count": 38,
     "metadata": {},
     "output_type": "execute_result"
    }
   ],
   "source": [
    "token_lists"
   ]
  },
  {
   "cell_type": "code",
   "execution_count": 39,
   "id": "d41060fd",
   "metadata": {
    "scrolled": true
   },
   "outputs": [],
   "source": [
    "#Remove Stopwords\n",
    "from nltk.corpus import stopwords\n",
    "set(stopwords.words('english'))\n",
    "#set of stopwords\n",
    "stop_words = set(stopwords.words('english'))\n",
    "def cleaning_stopwords(Reviews):\n",
    "    return \" \".join([word for word in str(Reviews).split() if word not in stop_words])\n",
    "df[\"Reviews\"] = df[\"Reviews\"].apply(lambda Reviews: cleaning_stopwords(Reviews))"
   ]
  },
  {
   "cell_type": "code",
   "execution_count": 40,
   "id": "50fc5199",
   "metadata": {},
   "outputs": [
    {
     "data": {
      "text/plain": [
       "0                            def best worst\n",
       "1                text messaging doesnt work\n",
       "2                                love phone\n",
       "3                                love phone\n",
       "4    great phone service options lousy case\n",
       "Name: Reviews, dtype: object"
      ]
     },
     "execution_count": 40,
     "metadata": {},
     "output_type": "execute_result"
    }
   ],
   "source": [
    "df.Reviews.head()"
   ]
  },
  {
   "cell_type": "code",
   "execution_count": 41,
   "id": "6d8051b4",
   "metadata": {},
   "outputs": [],
   "source": [
    "# Text Normalization"
   ]
  },
  {
   "cell_type": "code",
   "execution_count": 42,
   "id": "aa94c7b4",
   "metadata": {},
   "outputs": [
    {
     "name": "stdout",
     "output_type": "stream",
     "text": [
      "Requirement already satisfied: textblob in c:\\users\\vishaish\\anaconda3\\lib\\site-packages (0.15.3)\n",
      "Requirement already satisfied: nltk>=3.1 in c:\\users\\vishaish\\anaconda3\\lib\\site-packages (from textblob) (3.6.1)\n",
      "Requirement already satisfied: regex in c:\\users\\vishaish\\anaconda3\\lib\\site-packages (from nltk>=3.1->textblob) (2021.4.4)\n",
      "Requirement already satisfied: tqdm in c:\\users\\vishaish\\anaconda3\\lib\\site-packages (from nltk>=3.1->textblob) (4.59.0)\n",
      "Requirement already satisfied: joblib in c:\\users\\vishaish\\anaconda3\\lib\\site-packages (from nltk>=3.1->textblob) (1.0.1)\n",
      "Requirement already satisfied: click in c:\\users\\vishaish\\anaconda3\\lib\\site-packages (from nltk>=3.1->textblob) (7.1.2)\n",
      "Note: you may need to restart the kernel to use updated packages.\n"
     ]
    }
   ],
   "source": [
    "pip install textblob"
   ]
  },
  {
   "cell_type": "code",
   "execution_count": 43,
   "id": "b3c4fa58",
   "metadata": {},
   "outputs": [],
   "source": [
    "#Spelling Correction"
   ]
  },
  {
   "cell_type": "code",
   "execution_count": 44,
   "id": "2f4904b6",
   "metadata": {},
   "outputs": [],
   "source": [
    "#from textblob import TextBlob\n",
    "#df[\"Reviews\"] = df[\"Reviews\"].apply(lambda x: str(TextBlob(x).correct()))"
   ]
  },
  {
   "cell_type": "code",
   "execution_count": 45,
   "id": "8ab46d26",
   "metadata": {},
   "outputs": [],
   "source": [
    "#Lemmatization"
   ]
  },
  {
   "cell_type": "code",
   "execution_count": 46,
   "id": "7e65fd6c",
   "metadata": {},
   "outputs": [],
   "source": [
    "from textblob import Word\n",
    "df[\"Reviews\"] = df[\"Reviews\"].apply(lambda x: \" \".join([Word(word).lemmatize() for word in x.split()]))"
   ]
  },
  {
   "cell_type": "code",
   "execution_count": 47,
   "id": "822875c3",
   "metadata": {},
   "outputs": [
    {
     "data": {
      "text/plain": [
       "0                           def best worst\n",
       "1               text messaging doesnt work\n",
       "2                               love phone\n",
       "3                               love phone\n",
       "4    great phone service option lousy case\n",
       "Name: Reviews, dtype: object"
      ]
     },
     "execution_count": 47,
     "metadata": {},
     "output_type": "execute_result"
    }
   ],
   "source": [
    "df.Reviews.head()"
   ]
  },
  {
   "cell_type": "code",
   "execution_count": 48,
   "id": "683ab5d0",
   "metadata": {},
   "outputs": [
    {
     "data": {
      "text/html": [
       "<div>\n",
       "<style scoped>\n",
       "    .dataframe tbody tr th:only-of-type {\n",
       "        vertical-align: middle;\n",
       "    }\n",
       "\n",
       "    .dataframe tbody tr th {\n",
       "        vertical-align: top;\n",
       "    }\n",
       "\n",
       "    .dataframe thead th {\n",
       "        text-align: right;\n",
       "    }\n",
       "</style>\n",
       "<table border=\"1\" class=\"dataframe\">\n",
       "  <thead>\n",
       "    <tr style=\"text-align: right;\">\n",
       "      <th></th>\n",
       "      <th>Ratings</th>\n",
       "      <th>Reviews</th>\n",
       "    </tr>\n",
       "  </thead>\n",
       "  <tbody>\n",
       "    <tr>\n",
       "      <th>0</th>\n",
       "      <td>3</td>\n",
       "      <td>def best worst</td>\n",
       "    </tr>\n",
       "    <tr>\n",
       "      <th>1</th>\n",
       "      <td>1</td>\n",
       "      <td>text messaging doesnt work</td>\n",
       "    </tr>\n",
       "    <tr>\n",
       "      <th>2</th>\n",
       "      <td>5</td>\n",
       "      <td>love phone</td>\n",
       "    </tr>\n",
       "    <tr>\n",
       "      <th>3</th>\n",
       "      <td>3</td>\n",
       "      <td>love phone</td>\n",
       "    </tr>\n",
       "    <tr>\n",
       "      <th>4</th>\n",
       "      <td>4</td>\n",
       "      <td>great phone service option lousy case</td>\n",
       "    </tr>\n",
       "  </tbody>\n",
       "</table>\n",
       "</div>"
      ],
      "text/plain": [
       "   Ratings                                Reviews\n",
       "0        3                         def best worst\n",
       "1        1             text messaging doesnt work\n",
       "2        5                             love phone\n",
       "3        3                             love phone\n",
       "4        4  great phone service option lousy case"
      ]
     },
     "execution_count": 48,
     "metadata": {},
     "output_type": "execute_result"
    }
   ],
   "source": [
    "df.head()"
   ]
  },
  {
   "cell_type": "code",
   "execution_count": 49,
   "id": "503556dd",
   "metadata": {},
   "outputs": [],
   "source": [
    "rating_1 = df[df['Ratings'] == 1]\n",
    "rating_2 = df[df['Ratings'] == 2]\n",
    "rating_3 = df[df['Ratings'] == 3]\n",
    "rating_4 = df[df['Ratings'] == 4]\n",
    "rating_5 = df[df['Ratings'] == 5]"
   ]
  },
  {
   "cell_type": "code",
   "execution_count": 50,
   "id": "d0f56e3d",
   "metadata": {},
   "outputs": [],
   "source": [
    "df_sample = pd.concat([rating_1,rating_2,rating_3,rating_4,rating_5],axis=0)\n",
    "df_sample.reset_index(drop=True,inplace=True)"
   ]
  },
  {
   "cell_type": "code",
   "execution_count": 51,
   "id": "476fd522",
   "metadata": {},
   "outputs": [],
   "source": [
    "#pip install wordcloud"
   ]
  },
  {
   "cell_type": "code",
   "execution_count": 52,
   "id": "a8cd56c6",
   "metadata": {},
   "outputs": [],
   "source": [
    "# create wordclouds of Reviews"
   ]
  },
  {
   "cell_type": "code",
   "execution_count": 53,
   "id": "9079f3a1",
   "metadata": {},
   "outputs": [],
   "source": [
    "from wordcloud import WordCloud"
   ]
  },
  {
   "cell_type": "code",
   "execution_count": 54,
   "id": "98089d89",
   "metadata": {},
   "outputs": [],
   "source": [
    "# Concatenating all Reviews into a  single string\n",
    "df_str = df_sample.Reviews.str.cat()"
   ]
  },
  {
   "cell_type": "code",
   "execution_count": 55,
   "id": "10a67aa9",
   "metadata": {},
   "outputs": [
    {
     "data": {
      "image/png": "[encoded data removed]",
      "text/plain": [
       "<Figure size 720x720 with 1 Axes>"
      ]
     },
     "metadata": {
      "needs_background": "light"
     },
     "output_type": "display_data"
    }
   ],
   "source": [
    "wordcloud = WordCloud(max_font_size=100,# maximum font size fir the largest word\n",
    "                     max_words = 100, #maximum number of words\n",
    "                     background_color = \"black\",\n",
    "                     scale=10,#scaling between computation and drawing\n",
    "                     width=800,#width of the canvas\n",
    "                     height=400,#height of the canvas\n",
    "                     ).generate(df_str)\n",
    "plt.figure(figsize=(10,10))\n",
    "plt.imshow(wordcloud,interpolation=\"bilinear\")#to make the displayed image appear more smoothly\n",
    "plt.axis(\"off\")\n",
    "plt.show()"
   ]
  },
  {
   "cell_type": "code",
   "execution_count": 56,
   "id": "7faf1aee",
   "metadata": {},
   "outputs": [],
   "source": [
    "#splitting data into positive(Ratings is 4 or 5) and negative(Ratings is 1 or 2)\n",
    "neg= df_sample[df_sample['Ratings'].isin([1,2])]\n",
    "pos= df_sample[df_sample['Ratings'].isin([4,5])]\n",
    "#And concatenate to single string\n",
    "neg_str=neg.Reviews.str.cat()\n",
    "pos_str=pos.Reviews.str.cat()"
   ]
  },
  {
   "cell_type": "code",
   "execution_count": 57,
   "id": "8f21caa0",
   "metadata": {
    "scrolled": true
   },
   "outputs": [
    {
     "data": {
      "text/plain": [
       "Text(0.5, 1.0, 'Reviews with Positive Scores')"
      ]
     },
     "execution_count": 57,
     "metadata": {},
     "output_type": "execute_result"
    },
    {
     "data": {
      "image/png": "[encoded data removed]",
      "text/plain": [
       "<Figure size 720x720 with 1 Axes>"
      ]
     },
     "metadata": {
      "needs_background": "light"
     },
     "output_type": "display_data"
    }
   ],
   "source": [
    "# Create positive word Cloud\n",
    "\n",
    "# remove 'good' and 'great' from positive words as it is included in Negative Reviews such as 'not good'\n",
    "set(stopwords.words('english'))\n",
    "#set of stopwords\n",
    "stop_words = set(stopwords.words('english'))\n",
    "stop_words.update([\"good\",\"great\"])\n",
    "# good and great is removed because it is used in negative reviews\n",
    "\n",
    "wordcloud_pos=WordCloud(background_color='white',max_font_size=100,# maximum font size fir the largest word\n",
    "                     max_words = 100, #maximum number of words\n",
    "                     scale=10, #scaling between computation and drawing\n",
    "                     width=800, #width of the canvas\n",
    "                     height=400,\n",
    "                       stopwords=stop_words).generate(pos_str) # height of the canvas\n",
    "#plotting of positive word clouds\n",
    "fig=plt.figure(figsize=(10,10))\n",
    "ax1=fig.add_subplot(212)\n",
    "ax1.imshow(wordcloud_pos,interpolation='bilinear')\n",
    "plt.axis(\"off\")\n",
    "ax1.set_title('Reviews with Positive Scores')"
   ]
  },
  {
   "cell_type": "code",
   "execution_count": 58,
   "id": "a4c6db2e",
   "metadata": {},
   "outputs": [
    {
     "data": {
      "text/plain": [
       "Text(0.5, 1.0, 'Reviews with Negative Scores')"
      ]
     },
     "execution_count": 58,
     "metadata": {},
     "output_type": "execute_result"
    },
    {
     "data": {
      "image/png": "[encoded data removed]",
      "text/plain": [
       "<Figure size 720x720 with 1 Axes>"
      ]
     },
     "metadata": {
      "needs_background": "light"
     },
     "output_type": "display_data"
    }
   ],
   "source": [
    "# create negative word clouds\n",
    "wordcloud_neg=WordCloud(background_color='white',max_font_size=100,# maximum font size fir the largest word\n",
    "                     max_words = 100, #maximum number of words\n",
    "                     scale=10, #scaling between computation and drawing\n",
    "                     width=800, #width of the canvas\n",
    "                     height=400).generate(neg_str) # height of the canvas\n",
    "fig=plt.figure(figsize=(10,10))\n",
    "ax1=fig.add_subplot(211)\n",
    "ax1.imshow(wordcloud_neg,interpolation='bilinear')\n",
    "ax1.axis(\"off\")\n",
    "ax1.set_title('Reviews with Negative Scores')"
   ]
  },
  {
   "cell_type": "markdown",
   "id": "0d4c1f2c",
   "metadata": {},
   "source": [
    "## Sentiment Score"
   ]
  },
  {
   "cell_type": "code",
   "execution_count": 59,
   "id": "235caac9",
   "metadata": {},
   "outputs": [
    {
     "data": {
      "text/plain": [
       "1    55713\n",
       "0    21335\n",
       "Name: Sentiment, dtype: int64"
      ]
     },
     "execution_count": 59,
     "metadata": {},
     "output_type": "execute_result"
    }
   ],
   "source": [
    "#to show reviews with ratings > 3 as positive sentiments and reviews with ratings<3 as negative sentiments\n",
    "df['Sentiment'] = df['Ratings'].apply(lambda Ratings: 1 if Ratings>3 else 0)\n",
    "#Removing Neutral REviews\n",
    "df= df[df.Ratings!=3]\n",
    "#Printing the counts\n",
    "df['Sentiment'].value_counts()"
   ]
  },
  {
   "cell_type": "code",
   "execution_count": 60,
   "id": "a360bace",
   "metadata": {},
   "outputs": [],
   "source": [
    "# data is highly imbalanced"
   ]
  },
  {
   "cell_type": "markdown",
   "id": "12703fb8",
   "metadata": {},
   "source": [
    "### So,we need to do Under Sampling so that our Model can make better predictions.\n",
    "\n",
    "#### 0- Negative Reviews\n",
    "\n",
    "#### 1- Positive Reviews"
   ]
  },
  {
   "cell_type": "code",
   "execution_count": 61,
   "id": "10941454",
   "metadata": {},
   "outputs": [],
   "source": [
    "# Separating the Data for further Analysis\n",
    "\n",
    "negatives = df[df.Sentiment == 0]\n",
    "\n",
    "positives = df[df.Sentiment == 1]"
   ]
  },
  {
   "cell_type": "code",
   "execution_count": 62,
   "id": "5e75f844",
   "metadata": {},
   "outputs": [
    {
     "data": {
      "text/plain": [
       "(21335, 3)"
      ]
     },
     "execution_count": 62,
     "metadata": {},
     "output_type": "execute_result"
    }
   ],
   "source": [
    "negatives.shape"
   ]
  },
  {
   "cell_type": "code",
   "execution_count": 63,
   "id": "05249e80",
   "metadata": {},
   "outputs": [
    {
     "data": {
      "text/plain": [
       "(55713, 3)"
      ]
     },
     "execution_count": 63,
     "metadata": {},
     "output_type": "execute_result"
    }
   ],
   "source": [
    "positives.shape"
   ]
  },
  {
   "cell_type": "markdown",
   "id": "bf2c3843",
   "metadata": {},
   "source": [
    "# Under-Sampling: Built a sample dataset from original dataset\n",
    "\n",
    "no of negative reviews = 21335\n",
    "\n",
    "#### So what to do:\n",
    "\n",
    "lets take take 25000 values randomly from Positive Reviews.\n",
    "\n",
    "after this will have a dataset with\n",
    "\n",
    "-25000-positive Reviews\n",
    "\n",
    "and\n",
    "\n",
    "-21335-Negative Reviews"
   ]
  },
  {
   "cell_type": "code",
   "execution_count": 64,
   "id": "4c08dc9f",
   "metadata": {},
   "outputs": [],
   "source": [
    "pos_sample= positives.sample(n=25000)"
   ]
  },
  {
   "cell_type": "code",
   "execution_count": 65,
   "id": "0bd48f4e",
   "metadata": {},
   "outputs": [],
   "source": [
    "# Concatenate two Dtaframes(pos_sample and negatives)"
   ]
  },
  {
   "cell_type": "code",
   "execution_count": 66,
   "id": "772a0083",
   "metadata": {},
   "outputs": [],
   "source": [
    "df_new = pd.concat([pos_sample,negatives],axis=0)"
   ]
  },
  {
   "cell_type": "code",
   "execution_count": 67,
   "id": "acac87d8",
   "metadata": {},
   "outputs": [
    {
     "data": {
      "text/html": [
       "<div>\n",
       "<style scoped>\n",
       "    .dataframe tbody tr th:only-of-type {\n",
       "        vertical-align: middle;\n",
       "    }\n",
       "\n",
       "    .dataframe tbody tr th {\n",
       "        vertical-align: top;\n",
       "    }\n",
       "\n",
       "    .dataframe thead th {\n",
       "        text-align: right;\n",
       "    }\n",
       "</style>\n",
       "<table border=\"1\" class=\"dataframe\">\n",
       "  <thead>\n",
       "    <tr style=\"text-align: right;\">\n",
       "      <th></th>\n",
       "      <th>Ratings</th>\n",
       "      <th>Reviews</th>\n",
       "      <th>Sentiment</th>\n",
       "    </tr>\n",
       "  </thead>\n",
       "  <tbody>\n",
       "    <tr>\n",
       "      <th>41130</th>\n",
       "      <td>5</td>\n",
       "      <td>love</td>\n",
       "      <td>1</td>\n",
       "    </tr>\n",
       "    <tr>\n",
       "      <th>11425</th>\n",
       "      <td>5</td>\n",
       "      <td>verizon phone</td>\n",
       "      <td>1</td>\n",
       "    </tr>\n",
       "    <tr>\n",
       "      <th>77782</th>\n",
       "      <td>4</td>\n",
       "      <td>excellent good price</td>\n",
       "      <td>1</td>\n",
       "    </tr>\n",
       "    <tr>\n",
       "      <th>70047</th>\n",
       "      <td>4</td>\n",
       "      <td>dual sim muy bien</td>\n",
       "      <td>1</td>\n",
       "    </tr>\n",
       "    <tr>\n",
       "      <th>69378</th>\n",
       "      <td>5</td>\n",
       "      <td>good service</td>\n",
       "      <td>1</td>\n",
       "    </tr>\n",
       "  </tbody>\n",
       "</table>\n",
       "</div>"
      ],
      "text/plain": [
       "       Ratings               Reviews  Sentiment\n",
       "41130        5                  love          1\n",
       "11425        5         verizon phone          1\n",
       "77782        4  excellent good price          1\n",
       "70047        4     dual sim muy bien          1\n",
       "69378        5          good service          1"
      ]
     },
     "execution_count": 67,
     "metadata": {},
     "output_type": "execute_result"
    }
   ],
   "source": [
    "df_new.head()"
   ]
  },
  {
   "cell_type": "code",
   "execution_count": 68,
   "id": "f132ea1f",
   "metadata": {},
   "outputs": [
    {
     "data": {
      "text/plain": [
       "<AxesSubplot:>"
      ]
     },
     "execution_count": 68,
     "metadata": {},
     "output_type": "execute_result"
    },
    {
     "data": {
      "image/png": "[encoded data removed]",
      "text/plain": [
       "<Figure size 432x288 with 1 Axes>"
      ]
     },
     "metadata": {
      "needs_background": "light"
     },
     "output_type": "display_data"
    }
   ],
   "source": [
    "result = df_new['Sentiment'].value_counts()\n",
    "result.plot(kind='bar',rot=0,color=['blue','yellow'])"
   ]
  },
  {
   "cell_type": "code",
   "execution_count": 69,
   "id": "6c169170",
   "metadata": {},
   "outputs": [
    {
     "data": {
      "text/plain": [
       "(46335, 3)"
      ]
     },
     "execution_count": 69,
     "metadata": {},
     "output_type": "execute_result"
    }
   ],
   "source": [
    "df_new.shape"
   ]
  },
  {
   "cell_type": "code",
   "execution_count": 70,
   "id": "4ec79a8c",
   "metadata": {},
   "outputs": [
    {
     "data": {
      "text/html": [
       "<div>\n",
       "<style scoped>\n",
       "    .dataframe tbody tr th:only-of-type {\n",
       "        vertical-align: middle;\n",
       "    }\n",
       "\n",
       "    .dataframe tbody tr th {\n",
       "        vertical-align: top;\n",
       "    }\n",
       "\n",
       "    .dataframe thead th {\n",
       "        text-align: right;\n",
       "    }\n",
       "</style>\n",
       "<table border=\"1\" class=\"dataframe\">\n",
       "  <thead>\n",
       "    <tr style=\"text-align: right;\">\n",
       "      <th></th>\n",
       "      <th>Ratings</th>\n",
       "      <th>Reviews</th>\n",
       "      <th>Sentiment</th>\n",
       "    </tr>\n",
       "  </thead>\n",
       "  <tbody>\n",
       "    <tr>\n",
       "      <th>41130</th>\n",
       "      <td>5</td>\n",
       "      <td>love</td>\n",
       "      <td>1</td>\n",
       "    </tr>\n",
       "    <tr>\n",
       "      <th>11425</th>\n",
       "      <td>5</td>\n",
       "      <td>verizon phone</td>\n",
       "      <td>1</td>\n",
       "    </tr>\n",
       "    <tr>\n",
       "      <th>77782</th>\n",
       "      <td>4</td>\n",
       "      <td>excellent good price</td>\n",
       "      <td>1</td>\n",
       "    </tr>\n",
       "    <tr>\n",
       "      <th>70047</th>\n",
       "      <td>4</td>\n",
       "      <td>dual sim muy bien</td>\n",
       "      <td>1</td>\n",
       "    </tr>\n",
       "    <tr>\n",
       "      <th>69378</th>\n",
       "      <td>5</td>\n",
       "      <td>good service</td>\n",
       "      <td>1</td>\n",
       "    </tr>\n",
       "  </tbody>\n",
       "</table>\n",
       "</div>"
      ],
      "text/plain": [
       "       Ratings               Reviews  Sentiment\n",
       "41130        5                  love          1\n",
       "11425        5         verizon phone          1\n",
       "77782        4  excellent good price          1\n",
       "70047        4     dual sim muy bien          1\n",
       "69378        5          good service          1"
      ]
     },
     "execution_count": 70,
     "metadata": {},
     "output_type": "execute_result"
    }
   ],
   "source": [
    "df_new.head()"
   ]
  },
  {
   "cell_type": "markdown",
   "id": "167737e2",
   "metadata": {},
   "source": [
    "# Train-Test Splitting"
   ]
  },
  {
   "cell_type": "code",
   "execution_count": 71,
   "id": "1c0e8124",
   "metadata": {},
   "outputs": [],
   "source": [
    "from sklearn.model_selection import train_test_split"
   ]
  },
  {
   "cell_type": "code",
   "execution_count": 72,
   "id": "4732bfcc",
   "metadata": {},
   "outputs": [],
   "source": [
    "train_set,test_set = train_test_split(df_new,test_size=0.3,random_state=42)"
   ]
  },
  {
   "cell_type": "code",
   "execution_count": 73,
   "id": "f3b080a5",
   "metadata": {},
   "outputs": [
    {
     "name": "stdout",
     "output_type": "stream",
     "text": [
      "Rows in train set:32434\n",
      " Rows in test set:13901\n",
      "\n"
     ]
    }
   ],
   "source": [
    "print(f\"Rows in train set:{len(train_set)}\\n Rows in test set:{len(test_set)}\\n\")"
   ]
  },
  {
   "cell_type": "code",
   "execution_count": 74,
   "id": "904ce7c4",
   "metadata": {},
   "outputs": [
    {
     "data": {
      "text/plain": [
       "1    17413\n",
       "0    15021\n",
       "Name: Sentiment, dtype: int64"
      ]
     },
     "execution_count": 74,
     "metadata": {},
     "output_type": "execute_result"
    }
   ],
   "source": [
    "train_set['Sentiment'].value_counts()"
   ]
  },
  {
   "cell_type": "code",
   "execution_count": 75,
   "id": "ac4b4096",
   "metadata": {},
   "outputs": [
    {
     "data": {
      "text/plain": [
       "1    7587\n",
       "0    6314\n",
       "Name: Sentiment, dtype: int64"
      ]
     },
     "execution_count": 75,
     "metadata": {},
     "output_type": "execute_result"
    }
   ],
   "source": [
    "test_set['Sentiment'].value_counts()"
   ]
  },
  {
   "cell_type": "code",
   "execution_count": 76,
   "id": "6ac1526a",
   "metadata": {},
   "outputs": [],
   "source": [
    "df_new = train_set.copy()"
   ]
  },
  {
   "cell_type": "markdown",
   "id": "9ce86eba",
   "metadata": {},
   "source": [
    "### Splitting Features and Labels"
   ]
  },
  {
   "cell_type": "code",
   "execution_count": 77,
   "id": "fe074652",
   "metadata": {},
   "outputs": [],
   "source": [
    "df_new = train_set.drop(\"Sentiment\",axis=1)\n",
    "df_labels = train_set[\"Sentiment\"].copy()"
   ]
  },
  {
   "cell_type": "code",
   "execution_count": 78,
   "id": "31d8f5e1",
   "metadata": {},
   "outputs": [
    {
     "data": {
      "text/html": [
       "<div>\n",
       "<style scoped>\n",
       "    .dataframe tbody tr th:only-of-type {\n",
       "        vertical-align: middle;\n",
       "    }\n",
       "\n",
       "    .dataframe tbody tr th {\n",
       "        vertical-align: top;\n",
       "    }\n",
       "\n",
       "    .dataframe thead th {\n",
       "        text-align: right;\n",
       "    }\n",
       "</style>\n",
       "<table border=\"1\" class=\"dataframe\">\n",
       "  <thead>\n",
       "    <tr style=\"text-align: right;\">\n",
       "      <th></th>\n",
       "      <th>Ratings</th>\n",
       "      <th>Reviews</th>\n",
       "    </tr>\n",
       "  </thead>\n",
       "  <tbody>\n",
       "    <tr>\n",
       "      <th>47995</th>\n",
       "      <td>1</td>\n",
       "      <td>pantalla rota</td>\n",
       "    </tr>\n",
       "    <tr>\n",
       "      <th>21561</th>\n",
       "      <td>5</td>\n",
       "      <td>five star</td>\n",
       "    </tr>\n",
       "    <tr>\n",
       "      <th>37707</th>\n",
       "      <td>4</td>\n",
       "      <td>work properly</td>\n",
       "    </tr>\n",
       "    <tr>\n",
       "      <th>46212</th>\n",
       "      <td>1</td>\n",
       "      <td>horrible cheap crap</td>\n",
       "    </tr>\n",
       "    <tr>\n",
       "      <th>56162</th>\n",
       "      <td>1</td>\n",
       "      <td>advertised 64gb recieved 32gb</td>\n",
       "    </tr>\n",
       "  </tbody>\n",
       "</table>\n",
       "</div>"
      ],
      "text/plain": [
       "       Ratings                        Reviews\n",
       "47995        1                  pantalla rota\n",
       "21561        5                      five star\n",
       "37707        4                  work properly\n",
       "46212        1            horrible cheap crap\n",
       "56162        1  advertised 64gb recieved 32gb"
      ]
     },
     "execution_count": 78,
     "metadata": {},
     "output_type": "execute_result"
    }
   ],
   "source": [
    "df_new.head()"
   ]
  },
  {
   "cell_type": "code",
   "execution_count": 79,
   "id": "84ebe234",
   "metadata": {},
   "outputs": [
    {
     "data": {
      "text/plain": [
       "47995    0\n",
       "21561    1\n",
       "37707    1\n",
       "46212    0\n",
       "56162    0\n",
       "Name: Sentiment, dtype: int64"
      ]
     },
     "execution_count": 79,
     "metadata": {},
     "output_type": "execute_result"
    }
   ],
   "source": [
    "df_labels.head()"
   ]
  },
  {
   "cell_type": "code",
   "execution_count": 80,
   "id": "a11202be",
   "metadata": {},
   "outputs": [],
   "source": [
    "# convert text documents to numerical vectors"
   ]
  },
  {
   "cell_type": "code",
   "execution_count": 81,
   "id": "adaf93f1",
   "metadata": {
    "scrolled": true
   },
   "outputs": [],
   "source": [
    "from sklearn.feature_extraction.text import TfidfVectorizer\n",
    "vectorizer = TfidfVectorizer(max_features=5000)\n",
    "X = vectorizer.fit_transform(df_new.Reviews).toarray()"
   ]
  },
  {
   "cell_type": "code",
   "execution_count": 82,
   "id": "b516be34",
   "metadata": {},
   "outputs": [
    {
     "data": {
      "text/plain": [
       "(32434, 5000)"
      ]
     },
     "execution_count": 82,
     "metadata": {},
     "output_type": "execute_result"
    }
   ],
   "source": [
    "X.shape"
   ]
  },
  {
   "cell_type": "markdown",
   "id": "66f3f214",
   "metadata": {},
   "source": [
    "# Selecting a desired model"
   ]
  },
  {
   "cell_type": "code",
   "execution_count": 83,
   "id": "f23f8ff3",
   "metadata": {},
   "outputs": [],
   "source": [
    "from sklearn.linear_model import LogisticRegression\n",
    "model = LogisticRegression(tol = 0.1, solver = \"lbfgs\")         # Accuracy Score is 89%\n",
    "#from sklearn.naive_bayes import GaussianNB\n",
    "#model = GaussianNB()                                             # Accuracy Score is 71%\n",
    "#from sklearn.ensemble import RandomForestClassifier\n",
    "#model = RandomForestClassifier(max_depth=2, random_state=42)       # Accuracy Score is 53%"
   ]
  },
  {
   "cell_type": "code",
   "execution_count": 84,
   "id": "e564c2e5",
   "metadata": {},
   "outputs": [],
   "source": [
    "# training the logistic regression with trained dataset"
   ]
  },
  {
   "cell_type": "code",
   "execution_count": 85,
   "id": "773f7d45",
   "metadata": {},
   "outputs": [
    {
     "data": {
      "text/plain": [
       "LogisticRegression(tol=0.1)"
      ]
     },
     "execution_count": 85,
     "metadata": {},
     "output_type": "execute_result"
    }
   ],
   "source": [
    "model.fit(X,df_labels)"
   ]
  },
  {
   "cell_type": "code",
   "execution_count": 86,
   "id": "66e49b98",
   "metadata": {},
   "outputs": [],
   "source": [
    "df_prediction = model.predict(X)"
   ]
  },
  {
   "cell_type": "code",
   "execution_count": 87,
   "id": "0aaac36d",
   "metadata": {},
   "outputs": [
    {
     "name": "stdout",
     "output_type": "stream",
     "text": [
      "Accuracy on training data: 0.888357896035025\n"
     ]
    }
   ],
   "source": [
    "#Accuracy scores\n",
    "from sklearn.metrics import accuracy_score\n",
    "training_data_accuracy = accuracy_score(df_labels,df_prediction)\n",
    "print('Accuracy on training data:',training_data_accuracy)"
   ]
  },
  {
   "cell_type": "code",
   "execution_count": 88,
   "id": "6a15a0e7",
   "metadata": {},
   "outputs": [
    {
     "name": "stdout",
     "output_type": "stream",
     "text": [
      "[[13397  1624]\n",
      " [ 1997 15416]]\n"
     ]
    }
   ],
   "source": [
    "from sklearn.metrics import confusion_matrix\n",
    "print(confusion_matrix(df_labels,df_prediction))"
   ]
  },
  {
   "cell_type": "code",
   "execution_count": 89,
   "id": "c951aa30",
   "metadata": {},
   "outputs": [],
   "source": [
    "from sklearn.metrics import precision_score , recall_score"
   ]
  },
  {
   "cell_type": "code",
   "execution_count": 90,
   "id": "3f41b239",
   "metadata": {},
   "outputs": [
    {
     "data": {
      "text/plain": [
       "0.9046948356807512"
      ]
     },
     "execution_count": 90,
     "metadata": {},
     "output_type": "execute_result"
    }
   ],
   "source": [
    "#This is my precision score\n",
    "precision_score(df_labels, df_prediction)"
   ]
  },
  {
   "cell_type": "code",
   "execution_count": 91,
   "id": "5159fcb2",
   "metadata": {},
   "outputs": [
    {
     "data": {
      "text/plain": [
       "0.8853155688278872"
      ]
     },
     "execution_count": 91,
     "metadata": {},
     "output_type": "execute_result"
    }
   ],
   "source": [
    "#This is my recall score\n",
    "recall_score(df_labels, df_prediction)"
   ]
  },
  {
   "cell_type": "code",
   "execution_count": 92,
   "id": "e937dfdd",
   "metadata": {},
   "outputs": [
    {
     "data": {
      "text/plain": [
       "0.8949002989580008"
      ]
     },
     "execution_count": 92,
     "metadata": {},
     "output_type": "execute_result"
    }
   ],
   "source": [
    "#F1 Score--------it is harmonic mean of Precision and Recall\n",
    "from sklearn.metrics import f1_score\n",
    "f1_score(df_labels, df_prediction)"
   ]
  },
  {
   "cell_type": "code",
   "execution_count": 93,
   "id": "e06184b3",
   "metadata": {},
   "outputs": [
    {
     "name": "stdout",
     "output_type": "stream",
     "text": [
      "              precision    recall  f1-score   support\n",
      "\n",
      "           0       0.87      0.89      0.88     15021\n",
      "           1       0.90      0.89      0.89     17413\n",
      "\n",
      "    accuracy                           0.89     32434\n",
      "   macro avg       0.89      0.89      0.89     32434\n",
      "weighted avg       0.89      0.89      0.89     32434\n",
      "\n"
     ]
    }
   ],
   "source": [
    "# check Classification Report\n",
    "from sklearn.metrics import classification_report\n",
    "print(classification_report(df_labels,df_prediction))"
   ]
  },
  {
   "cell_type": "markdown",
   "id": "b3957fe0",
   "metadata": {},
   "source": [
    "## Testing the model on test dataset"
   ]
  },
  {
   "cell_type": "code",
   "execution_count": 94,
   "id": "641946b3",
   "metadata": {},
   "outputs": [],
   "source": [
    "X_test = test_set.drop(\"Sentiment\",axis=1)\n",
    "Y_test = test_set[\"Sentiment\"].copy()"
   ]
  },
  {
   "cell_type": "code",
   "execution_count": 95,
   "id": "2cad95ed",
   "metadata": {},
   "outputs": [],
   "source": [
    "from sklearn.feature_extraction.text import TfidfVectorizer\n",
    "vectorizer = TfidfVectorizer(max_features=5000)\n",
    "X1 = vectorizer.fit_transform(X_test.Reviews).toarray()"
   ]
  },
  {
   "cell_type": "code",
   "execution_count": 96,
   "id": "02355fe9",
   "metadata": {},
   "outputs": [
    {
     "data": {
      "text/plain": [
       "(13901, 4233)"
      ]
     },
     "execution_count": 96,
     "metadata": {},
     "output_type": "execute_result"
    }
   ],
   "source": [
    "X1.shape"
   ]
  },
  {
   "cell_type": "code",
   "execution_count": 97,
   "id": "f26c491d",
   "metadata": {},
   "outputs": [
    {
     "data": {
      "text/plain": [
       "LogisticRegression(tol=0.1)"
      ]
     },
     "execution_count": 97,
     "metadata": {},
     "output_type": "execute_result"
    }
   ],
   "source": [
    "from sklearn.linear_model import LogisticRegression\n",
    "model1 = LogisticRegression(tol = 0.1, solver = 'lbfgs')   # Accuracy Score is 90%\n",
    "#from sklearn.naive_bayes import GaussianNB\n",
    "#model1 = GaussianNB()                                      # Accuracy Score is 78%\n",
    "#from sklearn.ensemble import RandomForestClassifier\n",
    "#model1 = RandomForestClassifier(max_depth=2, random_state=0) # Accuracy Score is 54%\n",
    "model1.fit(X1,Y_test)"
   ]
  },
  {
   "cell_type": "code",
   "execution_count": 98,
   "id": "e72e4b62",
   "metadata": {},
   "outputs": [],
   "source": [
    "X_test_prediction = model1.predict(X1)"
   ]
  },
  {
   "cell_type": "code",
   "execution_count": 99,
   "id": "89f0fed5",
   "metadata": {},
   "outputs": [
    {
     "name": "stdout",
     "output_type": "stream",
     "text": [
      "Accuracy on testing data: 0.9023091863894683\n"
     ]
    }
   ],
   "source": [
    "from sklearn.metrics import accuracy_score\n",
    "testing_data_accuracy = accuracy_score(Y_test, X_test_prediction)\n",
    "print('Accuracy on testing data:',testing_data_accuracy)"
   ]
  },
  {
   "cell_type": "code",
   "execution_count": 100,
   "id": "63bd8d2c",
   "metadata": {},
   "outputs": [
    {
     "name": "stdout",
     "output_type": "stream",
     "text": [
      "[[5708  606]\n",
      " [ 752 6835]]\n"
     ]
    }
   ],
   "source": [
    "from sklearn.metrics import confusion_matrix\n",
    "print(confusion_matrix(Y_test,X_test_prediction))"
   ]
  },
  {
   "cell_type": "code",
   "execution_count": 101,
   "id": "fea2c99f",
   "metadata": {},
   "outputs": [
    {
     "data": {
      "text/plain": [
       "0.9185593334229271"
      ]
     },
     "execution_count": 101,
     "metadata": {},
     "output_type": "execute_result"
    }
   ],
   "source": [
    "from sklearn.metrics import precision_score , recall_score\n",
    "precision_score(Y_test , X_test_prediction)"
   ]
  },
  {
   "cell_type": "code",
   "execution_count": 102,
   "id": "82070839",
   "metadata": {},
   "outputs": [
    {
     "data": {
      "text/plain": [
       "0.9008830894951891"
      ]
     },
     "execution_count": 102,
     "metadata": {},
     "output_type": "execute_result"
    }
   ],
   "source": [
    "recall_score(Y_test , X_test_prediction)"
   ]
  },
  {
   "cell_type": "code",
   "execution_count": 103,
   "id": "25f7b5bf",
   "metadata": {},
   "outputs": [
    {
     "data": {
      "text/plain": [
       "0.9096353473516104"
      ]
     },
     "execution_count": 103,
     "metadata": {},
     "output_type": "execute_result"
    }
   ],
   "source": [
    "#F1 Score--------it is harmonic mean of Precision and Recall\n",
    "from sklearn.metrics import f1_score\n",
    "f1_score(Y_test , X_test_prediction)"
   ]
  },
  {
   "cell_type": "code",
   "execution_count": 104,
   "id": "14af9a83",
   "metadata": {},
   "outputs": [
    {
     "name": "stdout",
     "output_type": "stream",
     "text": [
      "              precision    recall  f1-score   support\n",
      "\n",
      "           0       0.88      0.90      0.89      6314\n",
      "           1       0.92      0.90      0.91      7587\n",
      "\n",
      "    accuracy                           0.90     13901\n",
      "   macro avg       0.90      0.90      0.90     13901\n",
      "weighted avg       0.90      0.90      0.90     13901\n",
      "\n"
     ]
    }
   ],
   "source": [
    "# check Classification Report\n",
    "from sklearn.metrics import classification_report\n",
    "print(classification_report(Y_test,X_test_prediction))"
   ]
  },
  {
   "cell_type": "markdown",
   "id": "2836e2c1",
   "metadata": {},
   "source": [
    "### Difference between actual and predicted values"
   ]
  },
  {
   "cell_type": "code",
   "execution_count": 105,
   "id": "af9b15e5",
   "metadata": {},
   "outputs": [
    {
     "data": {
      "text/html": [
       "<div>\n",
       "<style scoped>\n",
       "    .dataframe tbody tr th:only-of-type {\n",
       "        vertical-align: middle;\n",
       "    }\n",
       "\n",
       "    .dataframe tbody tr th {\n",
       "        vertical-align: top;\n",
       "    }\n",
       "\n",
       "    .dataframe thead th {\n",
       "        text-align: right;\n",
       "    }\n",
       "</style>\n",
       "<table border=\"1\" class=\"dataframe\">\n",
       "  <thead>\n",
       "    <tr style=\"text-align: right;\">\n",
       "      <th></th>\n",
       "      <th>Actual</th>\n",
       "      <th>Predicted</th>\n",
       "    </tr>\n",
       "  </thead>\n",
       "  <tbody>\n",
       "    <tr>\n",
       "      <th>0</th>\n",
       "      <td>0</td>\n",
       "      <td>0</td>\n",
       "    </tr>\n",
       "    <tr>\n",
       "      <th>1</th>\n",
       "      <td>1</td>\n",
       "      <td>1</td>\n",
       "    </tr>\n",
       "    <tr>\n",
       "      <th>2</th>\n",
       "      <td>1</td>\n",
       "      <td>0</td>\n",
       "    </tr>\n",
       "    <tr>\n",
       "      <th>3</th>\n",
       "      <td>0</td>\n",
       "      <td>0</td>\n",
       "    </tr>\n",
       "    <tr>\n",
       "      <th>4</th>\n",
       "      <td>0</td>\n",
       "      <td>0</td>\n",
       "    </tr>\n",
       "    <tr>\n",
       "      <th>...</th>\n",
       "      <td>...</td>\n",
       "      <td>...</td>\n",
       "    </tr>\n",
       "    <tr>\n",
       "      <th>32429</th>\n",
       "      <td>1</td>\n",
       "      <td>1</td>\n",
       "    </tr>\n",
       "    <tr>\n",
       "      <th>32430</th>\n",
       "      <td>0</td>\n",
       "      <td>0</td>\n",
       "    </tr>\n",
       "    <tr>\n",
       "      <th>32431</th>\n",
       "      <td>0</td>\n",
       "      <td>0</td>\n",
       "    </tr>\n",
       "    <tr>\n",
       "      <th>32432</th>\n",
       "      <td>1</td>\n",
       "      <td>1</td>\n",
       "    </tr>\n",
       "    <tr>\n",
       "      <th>32433</th>\n",
       "      <td>1</td>\n",
       "      <td>1</td>\n",
       "    </tr>\n",
       "  </tbody>\n",
       "</table>\n",
       "<p>32434 rows × 2 columns</p>\n",
       "</div>"
      ],
      "text/plain": [
       "       Actual  Predicted\n",
       "0           0          0\n",
       "1           1          1\n",
       "2           1          0\n",
       "3           0          0\n",
       "4           0          0\n",
       "...       ...        ...\n",
       "32429       1          1\n",
       "32430       0          0\n",
       "32431       0          0\n",
       "32432       1          1\n",
       "32433       1          1\n",
       "\n",
       "[32434 rows x 2 columns]"
      ]
     },
     "execution_count": 105,
     "metadata": {},
     "output_type": "execute_result"
    }
   ],
   "source": [
    "pd.DataFrame(np.c_[df_labels,df_prediction],columns=[\"Actual\" , \"Predicted\"])"
   ]
  },
  {
   "cell_type": "markdown",
   "id": "1ce140e9",
   "metadata": {},
   "source": [
    "### Saving the Model"
   ]
  },
  {
   "cell_type": "code",
   "execution_count": 106,
   "id": "657f14b0",
   "metadata": {},
   "outputs": [],
   "source": [
    "import pickle\n",
    "pickle.dump(vectorizer, open(\"TfidfVectorizer.pkl\", \"wb\"))\n",
    "pickle.dump(model1, open(\"Amazon_Product_review.pkl\", \"wb\"))"
   ]
  },
  {
   "cell_type": "markdown",
   "id": "8f1031cb",
   "metadata": {},
   "source": [
    "### Load my model and tfidfVectorizer"
   ]
  },
  {
   "cell_type": "code",
   "execution_count": 107,
   "id": "d2c3bfac",
   "metadata": {},
   "outputs": [],
   "source": [
    "save_vectorizer = pickle.load(open('TfidfVectorizer.pkl', 'rb'))\n",
    "model1 = pickle.load(open('Amazon_Product_Review.pkl', 'rb'))"
   ]
  },
  {
   "cell_type": "code",
   "execution_count": 108,
   "id": "c317ce10",
   "metadata": {},
   "outputs": [],
   "source": [
    "# Define a function to test model"
   ]
  },
  {
   "cell_type": "code",
   "execution_count": 109,
   "id": "ab590af6",
   "metadata": {},
   "outputs": [],
   "source": [
    "def test_model(sentence):\n",
    "    sen = save_vectorizer.transform([sentence]).toarray()\n",
    "    \n",
    "    res = model1.predict(sen)\n",
    "    if res == 0:\n",
    "        return 'Negative Review'\n",
    "    else:\n",
    "        return 'Positive Review'\n",
    "    \n"
   ]
  },
  {
   "cell_type": "code",
   "execution_count": 110,
   "id": "817dc39a",
   "metadata": {},
   "outputs": [],
   "source": [
    "# Test postive review and check prediction of our model"
   ]
  },
  {
   "cell_type": "code",
   "execution_count": 111,
   "id": "3f4e8485",
   "metadata": {},
   "outputs": [
    {
     "name": "stdout",
     "output_type": "stream",
     "text": [
      "Positive Review\n"
     ]
    }
   ],
   "source": [
    "sen = 'excellent quality starfive'\n",
    "res = test_model(sen)\n",
    "print(res)"
   ]
  },
  {
   "cell_type": "code",
   "execution_count": 112,
   "id": "a20139ab",
   "metadata": {},
   "outputs": [],
   "source": [
    "# Test Negative review and check predition of our model"
   ]
  },
  {
   "cell_type": "code",
   "execution_count": 113,
   "id": "37daf90d",
   "metadata": {},
   "outputs": [
    {
     "name": "stdout",
     "output_type": "stream",
     "text": [
      "Positive Review\n"
     ]
    }
   ],
   "source": [
    "sen = ' great product'\n",
    "res = test_model(sen)\n",
    "print(res)\n"
   ]
  },
  {
   "cell_type": "code",
   "execution_count": null,
   "id": "981d5055",
   "metadata": {},
   "outputs": [],
   "source": []
  }
 ],
 "metadata": {
  "kernelspec": {
   "display_name": "Python 3",
   "language": "python",
   "name": "python3"
  },
  "language_info": {
   "codemirror_mode": {
    "name": "ipython",
    "version": 3
   },
   "file_extension": ".py",
   "mimetype": "text/x-python",
   "name": "python",
   "nbconvert_exporter": "python",
   "pygments_lexer": "ipython3",
   "version": "3.8.8"
  }
 },
 "nbformat": 4,
 "nbformat_minor": 5
}
